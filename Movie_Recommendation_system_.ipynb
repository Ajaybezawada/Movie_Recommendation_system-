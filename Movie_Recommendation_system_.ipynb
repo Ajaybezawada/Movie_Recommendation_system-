{
  "nbformat": 4,
  "nbformat_minor": 0,
  "metadata": {
    "colab": {
      "name": "Movie_Recommendation_system .ipynb",
      "provenance": [],
      "collapsed_sections": [],
      "toc_visible": true,
      "include_colab_link": true
    },
    "kernelspec": {
      "display_name": "Python 3",
      "name": "python3"
    },
    "language_info": {
      "name": "python"
    }
  },
  "cells": [
    {
      "cell_type": "markdown",
      "metadata": {
        "id": "view-in-github",
        "colab_type": "text"
      },
      "source": [
        "<a href=\"https://colab.research.google.com/github/Ajaybezawada/Movie_Recommendation_system-/blob/main/Movie_Recommendation_system_.ipynb\" target=\"_parent\"><img src=\"https://colab.research.google.com/assets/colab-badge.svg\" alt=\"Open In Colab\"/></a>"
      ]
    },
    {
      "cell_type": "code",
      "metadata": {
        "id": "f3bd23af"
      },
      "source": [
        "import pandas as pd\n",
        "import matplotlib.pyplot as plt\n",
        "import numpy as np\n",
        "import seaborn as sns\n",
        "import missingno as msno\n",
        "import re\n",
        "import os\n",
        "import warnings\n",
        "warnings.filterwarnings('ignore')\n",
        "from scipy.sparse import csr_matrix\n",
        "from sklearn.neighbors import NearestNeighbors"
      ],
      "execution_count": 1,
      "outputs": []
    },
    {
      "cell_type": "code",
      "metadata": {
        "colab": {
          "base_uri": "https://localhost:8080/"
        },
        "id": "q4560MLHg9Fz",
        "outputId": "dbdde27b-67f0-48bf-f8b9-2bc6e4569be6"
      },
      "source": [
        "rating_df = pd.read_csv('https://raw.githubusercontent.com/maheshv18/ContentBasedMovieRecommender/main/rating.csv', parse_dates=['timestamp'], dtype={'userId': 'uint32', 'movieId': 'uint32', 'rating': 'float32'})\n",
        "movie_df = pd.read_csv('https://raw.githubusercontent.com/maheshv18/ContentBasedMovieRecommender/c56576d7ed0ac41503db06287d32f32bff4f7547/movie.csv', dtype={'movieId': 'uint32'})\n",
        "df_gscores=pd.read_csv('https://raw.githubusercontent.com/maheshv18/ContentBasedMovieRecommender/main/genome_scores.csv')\n",
        "df_gtag=pd.read_csv('https://raw.githubusercontent.com/maheshv18/ContentBasedMovieRecommender/main/genome_tags.csv')\n",
        "rating_df.shape, movie_df.shape,df_gscores.shape"
      ],
      "execution_count": 2,
      "outputs": [
        {
          "output_type": "execute_result",
          "data": {
            "text/plain": [
              "((231146, 4), (27278, 3), (165781, 3))"
            ]
          },
          "metadata": {},
          "execution_count": 2
        }
      ]
    },
    {
      "cell_type": "markdown",
      "metadata": {
        "id": "vP9mYFhZ7wAG"
      },
      "source": [
        "# PreProcessing and Cleaning"
      ]
    },
    {
      "cell_type": "code",
      "metadata": {
        "colab": {
          "base_uri": "https://localhost:8080/",
          "height": 206
        },
        "id": "3rWAWNVT7iFN",
        "outputId": "b4a3aeee-3787-4bca-de89-f842af47b2f8"
      },
      "source": [
        "movie_df.head()"
      ],
      "execution_count": 3,
      "outputs": [
        {
          "output_type": "execute_result",
          "data": {
            "text/html": [
              "<div>\n",
              "<style scoped>\n",
              "    .dataframe tbody tr th:only-of-type {\n",
              "        vertical-align: middle;\n",
              "    }\n",
              "\n",
              "    .dataframe tbody tr th {\n",
              "        vertical-align: top;\n",
              "    }\n",
              "\n",
              "    .dataframe thead th {\n",
              "        text-align: right;\n",
              "    }\n",
              "</style>\n",
              "<table border=\"1\" class=\"dataframe\">\n",
              "  <thead>\n",
              "    <tr style=\"text-align: right;\">\n",
              "      <th></th>\n",
              "      <th>movieId</th>\n",
              "      <th>title</th>\n",
              "      <th>genres</th>\n",
              "    </tr>\n",
              "  </thead>\n",
              "  <tbody>\n",
              "    <tr>\n",
              "      <th>0</th>\n",
              "      <td>1</td>\n",
              "      <td>Toy Story (1995)</td>\n",
              "      <td>Adventure|Animation|Children|Comedy|Fantasy</td>\n",
              "    </tr>\n",
              "    <tr>\n",
              "      <th>1</th>\n",
              "      <td>2</td>\n",
              "      <td>Jumanji (1995)</td>\n",
              "      <td>Adventure|Children|Fantasy</td>\n",
              "    </tr>\n",
              "    <tr>\n",
              "      <th>2</th>\n",
              "      <td>3</td>\n",
              "      <td>Grumpier Old Men (1995)</td>\n",
              "      <td>Comedy|Romance</td>\n",
              "    </tr>\n",
              "    <tr>\n",
              "      <th>3</th>\n",
              "      <td>4</td>\n",
              "      <td>Waiting to Exhale (1995)</td>\n",
              "      <td>Comedy|Drama|Romance</td>\n",
              "    </tr>\n",
              "    <tr>\n",
              "      <th>4</th>\n",
              "      <td>5</td>\n",
              "      <td>Father of the Bride Part II (1995)</td>\n",
              "      <td>Comedy</td>\n",
              "    </tr>\n",
              "  </tbody>\n",
              "</table>\n",
              "</div>"
            ],
            "text/plain": [
              "   movieId  ...                                       genres\n",
              "0        1  ...  Adventure|Animation|Children|Comedy|Fantasy\n",
              "1        2  ...                   Adventure|Children|Fantasy\n",
              "2        3  ...                               Comedy|Romance\n",
              "3        4  ...                         Comedy|Drama|Romance\n",
              "4        5  ...                                       Comedy\n",
              "\n",
              "[5 rows x 3 columns]"
            ]
          },
          "metadata": {},
          "execution_count": 3
        }
      ]
    },
    {
      "cell_type": "code",
      "metadata": {
        "colab": {
          "base_uri": "https://localhost:8080/",
          "height": 206
        },
        "id": "MZ7-ZqZA7mJt",
        "outputId": "8511b574-1f31-43e7-fe2a-bb3a44554547"
      },
      "source": [
        "rating_df.head()"
      ],
      "execution_count": 4,
      "outputs": [
        {
          "output_type": "execute_result",
          "data": {
            "text/html": [
              "<div>\n",
              "<style scoped>\n",
              "    .dataframe tbody tr th:only-of-type {\n",
              "        vertical-align: middle;\n",
              "    }\n",
              "\n",
              "    .dataframe tbody tr th {\n",
              "        vertical-align: top;\n",
              "    }\n",
              "\n",
              "    .dataframe thead th {\n",
              "        text-align: right;\n",
              "    }\n",
              "</style>\n",
              "<table border=\"1\" class=\"dataframe\">\n",
              "  <thead>\n",
              "    <tr style=\"text-align: right;\">\n",
              "      <th></th>\n",
              "      <th>userId</th>\n",
              "      <th>movieId</th>\n",
              "      <th>rating</th>\n",
              "      <th>timestamp</th>\n",
              "    </tr>\n",
              "  </thead>\n",
              "  <tbody>\n",
              "    <tr>\n",
              "      <th>0</th>\n",
              "      <td>1</td>\n",
              "      <td>2</td>\n",
              "      <td>3.5</td>\n",
              "      <td>2005-02-04 23:53:00</td>\n",
              "    </tr>\n",
              "    <tr>\n",
              "      <th>1</th>\n",
              "      <td>1</td>\n",
              "      <td>29</td>\n",
              "      <td>3.5</td>\n",
              "      <td>2005-02-04 23:31:00</td>\n",
              "    </tr>\n",
              "    <tr>\n",
              "      <th>2</th>\n",
              "      <td>1</td>\n",
              "      <td>32</td>\n",
              "      <td>3.5</td>\n",
              "      <td>2005-02-04 23:33:00</td>\n",
              "    </tr>\n",
              "    <tr>\n",
              "      <th>3</th>\n",
              "      <td>1</td>\n",
              "      <td>47</td>\n",
              "      <td>3.5</td>\n",
              "      <td>2005-02-04 23:32:00</td>\n",
              "    </tr>\n",
              "    <tr>\n",
              "      <th>4</th>\n",
              "      <td>1</td>\n",
              "      <td>50</td>\n",
              "      <td>3.5</td>\n",
              "      <td>2005-02-04 23:29:00</td>\n",
              "    </tr>\n",
              "  </tbody>\n",
              "</table>\n",
              "</div>"
            ],
            "text/plain": [
              "   userId  movieId  rating           timestamp\n",
              "0       1        2     3.5 2005-02-04 23:53:00\n",
              "1       1       29     3.5 2005-02-04 23:31:00\n",
              "2       1       32     3.5 2005-02-04 23:33:00\n",
              "3       1       47     3.5 2005-02-04 23:32:00\n",
              "4       1       50     3.5 2005-02-04 23:29:00"
            ]
          },
          "metadata": {},
          "execution_count": 4
        }
      ]
    },
    {
      "cell_type": "code",
      "metadata": {
        "colab": {
          "base_uri": "https://localhost:8080/"
        },
        "id": "NbSRsDqa7eXY",
        "outputId": "99930c67-6592-48d9-9a0e-86a2ca87adc1"
      },
      "source": [
        "movie_df.isnull().any()"
      ],
      "execution_count": 5,
      "outputs": [
        {
          "output_type": "execute_result",
          "data": {
            "text/plain": [
              "movieId    False\n",
              "title      False\n",
              "genres     False\n",
              "dtype: bool"
            ]
          },
          "metadata": {},
          "execution_count": 5
        }
      ]
    },
    {
      "cell_type": "code",
      "metadata": {
        "colab": {
          "base_uri": "https://localhost:8080/"
        },
        "id": "ALHLENn9511H",
        "outputId": "156d0622-c162-4b72-a5af-0cfdafe21873"
      },
      "source": [
        "print('The total number of movies in the dataset : {}'.format(len(movie_df['movieId'].unique())))"
      ],
      "execution_count": 6,
      "outputs": [
        {
          "output_type": "stream",
          "name": "stdout",
          "text": [
            "The total number of movies in the dataset : 27278\n"
          ]
        }
      ]
    },
    {
      "cell_type": "code",
      "metadata": {
        "colab": {
          "base_uri": "https://localhost:8080/"
        },
        "id": "_6silVLI6M7D",
        "outputId": "9ab6b84a-0b3c-481e-c0fd-ffe63deda38c"
      },
      "source": [
        "df_tmp=movie_df[movie_df.duplicated(subset = 'title', keep = False)]\n",
        "list1=[]\n",
        "list2=[]\n",
        "for j in range(32):\n",
        "    x=0\n",
        "    for i in range(31):\n",
        "        if df_tmp.iloc[j,1]== df_tmp.iloc[i+1,1]:\n",
        "            if df_tmp.iloc[j,2]== df_tmp.iloc[i+1,2]:\n",
        "                x+=1\n",
        "                if x>1:\n",
        "                    list1.append(df_tmp.iloc[j,1])\n",
        "                else:\n",
        "                    list2.append(df_tmp.iloc[j,1])\n",
        "                    \n",
        "print('List of duplicate movies with same genres {}'.format(list(set(list1))))\n",
        "print('')\n",
        "print('List of dullicate movies with different genres {}'.format(list(set(list2)-set(list1))))"
      ],
      "execution_count": 7,
      "outputs": [
        {
          "output_type": "stream",
          "name": "stdout",
          "text": [
            "List of duplicate movies with same genres ['Beneath (2013)', 'Johnny Express (2014)', 'Clear History (2013)', 'Offside (2006)', 'Girl, The (2012)', 'Darling (2007)']\n",
            "\n",
            "List of dullicate movies with different genres ['Emma (1996)', '20,000 Leagues Under the Sea (1997)', 'Chaos (2005)', 'Hamlet (2000)', 'Paradise (2013)', 'Men with Guns (1997)', 'War of the Worlds (2005)', 'Casanova (2005)', 'Aladdin (1992)', 'Blackout (2007)']\n"
          ]
        }
      ]
    },
    {
      "cell_type": "code",
      "metadata": {
        "colab": {
          "base_uri": "https://localhost:8080/",
          "height": 49
        },
        "id": "a1hPo8Hw6XhP",
        "outputId": "9d732621-234d-49f3-df6a-bf8004e86cf2"
      },
      "source": [
        "movie_df.drop_duplicates(subset='title', inplace = True, keep= 'first')\n",
        "movie_df[movie_df.duplicated(subset = 'title', keep = False)]"
      ],
      "execution_count": 8,
      "outputs": [
        {
          "output_type": "execute_result",
          "data": {
            "text/html": [
              "<div>\n",
              "<style scoped>\n",
              "    .dataframe tbody tr th:only-of-type {\n",
              "        vertical-align: middle;\n",
              "    }\n",
              "\n",
              "    .dataframe tbody tr th {\n",
              "        vertical-align: top;\n",
              "    }\n",
              "\n",
              "    .dataframe thead th {\n",
              "        text-align: right;\n",
              "    }\n",
              "</style>\n",
              "<table border=\"1\" class=\"dataframe\">\n",
              "  <thead>\n",
              "    <tr style=\"text-align: right;\">\n",
              "      <th></th>\n",
              "      <th>movieId</th>\n",
              "      <th>title</th>\n",
              "      <th>genres</th>\n",
              "    </tr>\n",
              "  </thead>\n",
              "  <tbody>\n",
              "  </tbody>\n",
              "</table>\n",
              "</div>"
            ],
            "text/plain": [
              "Empty DataFrame\n",
              "Columns: [movieId, title, genres]\n",
              "Index: []"
            ]
          },
          "metadata": {},
          "execution_count": 8
        }
      ]
    },
    {
      "cell_type": "code",
      "metadata": {
        "colab": {
          "base_uri": "https://localhost:8080/"
        },
        "id": "LgLDUDiw6oJC",
        "outputId": "7e90b116-2b3d-4330-8bf3-35c73ffd55df"
      },
      "source": [
        "print('The number of movies which are rated by users : {}'.format(len(rating_df['movieId'].unique())))"
      ],
      "execution_count": 9,
      "outputs": [
        {
          "output_type": "stream",
          "name": "stdout",
          "text": [
            "The number of movies which are rated by users : 10372\n"
          ]
        }
      ]
    },
    {
      "cell_type": "code",
      "metadata": {
        "colab": {
          "base_uri": "https://localhost:8080/"
        },
        "id": "AZdUm4XH62Pu",
        "outputId": "f65c4a19-7a85-4605-8e12-ffd11cc88dae"
      },
      "source": [
        "count_ratings = pd.DataFrame(rating_df.groupby('rating').count())\n",
        "count_ratings['perc_total']=round(count_ratings['userId']*100/count_ratings['userId'].sum(),1)\n",
        "count_ratings['perc_total']"
      ],
      "execution_count": 10,
      "outputs": [
        {
          "output_type": "execute_result",
          "data": {
            "text/plain": [
              "rating\n",
              "0.5     1.5\n",
              "1.0     3.7\n",
              "1.5     1.4\n",
              "2.0     7.3\n",
              "2.5     4.3\n",
              "3.0    21.8\n",
              "3.5    10.7\n",
              "4.0    27.5\n",
              "4.5     7.5\n",
              "5.0    14.2\n",
              "Name: perc_total, dtype: float64"
            ]
          },
          "metadata": {},
          "execution_count": 10
        }
      ]
    },
    {
      "cell_type": "code",
      "metadata": {
        "colab": {
          "base_uri": "https://localhost:8080/",
          "height": 455
        },
        "id": "H5t8djDh7A-2",
        "outputId": "14bc0d96-9aa8-40eb-a5f7-4bb12a255389"
      },
      "source": [
        "gc = pd.DataFrame(movie_df.groupby('genres')['genres'].count())\n",
        "gc.rename(columns = {'genres':'Count'}, inplace = True)\n",
        "gc"
      ],
      "execution_count": 11,
      "outputs": [
        {
          "output_type": "execute_result",
          "data": {
            "text/html": [
              "<div>\n",
              "<style scoped>\n",
              "    .dataframe tbody tr th:only-of-type {\n",
              "        vertical-align: middle;\n",
              "    }\n",
              "\n",
              "    .dataframe tbody tr th {\n",
              "        vertical-align: top;\n",
              "    }\n",
              "\n",
              "    .dataframe thead th {\n",
              "        text-align: right;\n",
              "    }\n",
              "</style>\n",
              "<table border=\"1\" class=\"dataframe\">\n",
              "  <thead>\n",
              "    <tr style=\"text-align: right;\">\n",
              "      <th></th>\n",
              "      <th>Count</th>\n",
              "    </tr>\n",
              "    <tr>\n",
              "      <th>genres</th>\n",
              "      <th></th>\n",
              "    </tr>\n",
              "  </thead>\n",
              "  <tbody>\n",
              "    <tr>\n",
              "      <th>(no genres listed)</th>\n",
              "      <td>246</td>\n",
              "    </tr>\n",
              "    <tr>\n",
              "      <th>Action</th>\n",
              "      <td>178</td>\n",
              "    </tr>\n",
              "    <tr>\n",
              "      <th>Action|Adventure</th>\n",
              "      <td>86</td>\n",
              "    </tr>\n",
              "    <tr>\n",
              "      <th>Action|Adventure|Animation</th>\n",
              "      <td>18</td>\n",
              "    </tr>\n",
              "    <tr>\n",
              "      <th>Action|Adventure|Animation|Children</th>\n",
              "      <td>8</td>\n",
              "    </tr>\n",
              "    <tr>\n",
              "      <th>...</th>\n",
              "      <td>...</td>\n",
              "    </tr>\n",
              "    <tr>\n",
              "      <th>Thriller|War</th>\n",
              "      <td>9</td>\n",
              "    </tr>\n",
              "    <tr>\n",
              "      <th>Thriller|Western</th>\n",
              "      <td>2</td>\n",
              "    </tr>\n",
              "    <tr>\n",
              "      <th>War</th>\n",
              "      <td>32</td>\n",
              "    </tr>\n",
              "    <tr>\n",
              "      <th>War|Western</th>\n",
              "      <td>3</td>\n",
              "    </tr>\n",
              "    <tr>\n",
              "      <th>Western</th>\n",
              "      <td>215</td>\n",
              "    </tr>\n",
              "  </tbody>\n",
              "</table>\n",
              "<p>1342 rows × 1 columns</p>\n",
              "</div>"
            ],
            "text/plain": [
              "                                     Count\n",
              "genres                                    \n",
              "(no genres listed)                     246\n",
              "Action                                 178\n",
              "Action|Adventure                        86\n",
              "Action|Adventure|Animation              18\n",
              "Action|Adventure|Animation|Children      8\n",
              "...                                    ...\n",
              "Thriller|War                             9\n",
              "Thriller|Western                         2\n",
              "War                                     32\n",
              "War|Western                              3\n",
              "Western                                215\n",
              "\n",
              "[1342 rows x 1 columns]"
            ]
          },
          "metadata": {},
          "execution_count": 11
        }
      ]
    },
    {
      "cell_type": "code",
      "metadata": {
        "colab": {
          "base_uri": "https://localhost:8080/"
        },
        "id": "pOOpJVFx7HBO",
        "outputId": "653436c0-5ce6-438a-ed6d-8ab99fae7561"
      },
      "source": [
        "len(rating_df['userId'].unique())"
      ],
      "execution_count": 12,
      "outputs": [
        {
          "output_type": "execute_result",
          "data": {
            "text/plain": [
              "1596"
            ]
          },
          "metadata": {},
          "execution_count": 12
        }
      ]
    },
    {
      "cell_type": "code",
      "metadata": {
        "colab": {
          "base_uri": "https://localhost:8080/",
          "height": 423
        },
        "id": "bkEbgER9hiEL",
        "outputId": "56f78bc6-dabf-41a0-e3fd-0f6eb0d44a73"
      },
      "source": [
        "rating_df['gave_rating_year'] = rating_df['timestamp'].dt.year\n",
        "rating_df['gave_rating_month'] = rating_df['timestamp'].dt.month_name().str[:3]\n",
        "\n",
        "rating_df.drop('timestamp', axis=1, inplace=False)"
      ],
      "execution_count": 13,
      "outputs": [
        {
          "output_type": "execute_result",
          "data": {
            "text/html": [
              "<div>\n",
              "<style scoped>\n",
              "    .dataframe tbody tr th:only-of-type {\n",
              "        vertical-align: middle;\n",
              "    }\n",
              "\n",
              "    .dataframe tbody tr th {\n",
              "        vertical-align: top;\n",
              "    }\n",
              "\n",
              "    .dataframe thead th {\n",
              "        text-align: right;\n",
              "    }\n",
              "</style>\n",
              "<table border=\"1\" class=\"dataframe\">\n",
              "  <thead>\n",
              "    <tr style=\"text-align: right;\">\n",
              "      <th></th>\n",
              "      <th>userId</th>\n",
              "      <th>movieId</th>\n",
              "      <th>rating</th>\n",
              "      <th>gave_rating_year</th>\n",
              "      <th>gave_rating_month</th>\n",
              "    </tr>\n",
              "  </thead>\n",
              "  <tbody>\n",
              "    <tr>\n",
              "      <th>0</th>\n",
              "      <td>1</td>\n",
              "      <td>2</td>\n",
              "      <td>3.5</td>\n",
              "      <td>2005</td>\n",
              "      <td>Feb</td>\n",
              "    </tr>\n",
              "    <tr>\n",
              "      <th>1</th>\n",
              "      <td>1</td>\n",
              "      <td>29</td>\n",
              "      <td>3.5</td>\n",
              "      <td>2005</td>\n",
              "      <td>Feb</td>\n",
              "    </tr>\n",
              "    <tr>\n",
              "      <th>2</th>\n",
              "      <td>1</td>\n",
              "      <td>32</td>\n",
              "      <td>3.5</td>\n",
              "      <td>2005</td>\n",
              "      <td>Feb</td>\n",
              "    </tr>\n",
              "    <tr>\n",
              "      <th>3</th>\n",
              "      <td>1</td>\n",
              "      <td>47</td>\n",
              "      <td>3.5</td>\n",
              "      <td>2005</td>\n",
              "      <td>Feb</td>\n",
              "    </tr>\n",
              "    <tr>\n",
              "      <th>4</th>\n",
              "      <td>1</td>\n",
              "      <td>50</td>\n",
              "      <td>3.5</td>\n",
              "      <td>2005</td>\n",
              "      <td>Feb</td>\n",
              "    </tr>\n",
              "    <tr>\n",
              "      <th>...</th>\n",
              "      <td>...</td>\n",
              "      <td>...</td>\n",
              "      <td>...</td>\n",
              "      <td>...</td>\n",
              "      <td>...</td>\n",
              "    </tr>\n",
              "    <tr>\n",
              "      <th>231141</th>\n",
              "      <td>1596</td>\n",
              "      <td>552</td>\n",
              "      <td>2.0</td>\n",
              "      <td>2005</td>\n",
              "      <td>Apr</td>\n",
              "    </tr>\n",
              "    <tr>\n",
              "      <th>231142</th>\n",
              "      <td>1596</td>\n",
              "      <td>593</td>\n",
              "      <td>4.5</td>\n",
              "      <td>2005</td>\n",
              "      <td>Apr</td>\n",
              "    </tr>\n",
              "    <tr>\n",
              "      <th>231143</th>\n",
              "      <td>1596</td>\n",
              "      <td>653</td>\n",
              "      <td>3.0</td>\n",
              "      <td>2005</td>\n",
              "      <td>Apr</td>\n",
              "    </tr>\n",
              "    <tr>\n",
              "      <th>231144</th>\n",
              "      <td>1596</td>\n",
              "      <td>784</td>\n",
              "      <td>2.0</td>\n",
              "      <td>2005</td>\n",
              "      <td>Apr</td>\n",
              "    </tr>\n",
              "    <tr>\n",
              "      <th>231145</th>\n",
              "      <td>1596</td>\n",
              "      <td>923</td>\n",
              "      <td>4.5</td>\n",
              "      <td>2005</td>\n",
              "      <td>Apr</td>\n",
              "    </tr>\n",
              "  </tbody>\n",
              "</table>\n",
              "<p>231146 rows × 5 columns</p>\n",
              "</div>"
            ],
            "text/plain": [
              "        userId  movieId  rating  gave_rating_year gave_rating_month\n",
              "0            1        2     3.5              2005               Feb\n",
              "1            1       29     3.5              2005               Feb\n",
              "2            1       32     3.5              2005               Feb\n",
              "3            1       47     3.5              2005               Feb\n",
              "4            1       50     3.5              2005               Feb\n",
              "...        ...      ...     ...               ...               ...\n",
              "231141    1596      552     2.0              2005               Apr\n",
              "231142    1596      593     4.5              2005               Apr\n",
              "231143    1596      653     3.0              2005               Apr\n",
              "231144    1596      784     2.0              2005               Apr\n",
              "231145    1596      923     4.5              2005               Apr\n",
              "\n",
              "[231146 rows x 5 columns]"
            ]
          },
          "metadata": {},
          "execution_count": 13
        }
      ]
    },
    {
      "cell_type": "code",
      "metadata": {
        "id": "uq7-2E5ihje7"
      },
      "source": [
        "rating_df['sentiment_analysis'] = rating_df['rating'].map({\n",
        "    0.5: 'Negative', 1.0: 'Negative', 1.5: 'Negative', 2.0: 'Negative', 2.5: 'Negative',\n",
        "    3.0: 'Neutral', 3.5: 'Neutral',\n",
        "    4.0: 'Positive', 4.5: 'Positive', 5.0: 'Positive'\n",
        "})"
      ],
      "execution_count": 14,
      "outputs": []
    },
    {
      "cell_type": "code",
      "metadata": {
        "colab": {
          "base_uri": "https://localhost:8080/",
          "height": 143
        },
        "id": "8Fp6L-6-hnXC",
        "outputId": "ad59d615-bbca-4b8f-eaa6-5a5fc6379eaf"
      },
      "source": [
        "rating_df.head(3)"
      ],
      "execution_count": 15,
      "outputs": [
        {
          "output_type": "execute_result",
          "data": {
            "text/html": [
              "<div>\n",
              "<style scoped>\n",
              "    .dataframe tbody tr th:only-of-type {\n",
              "        vertical-align: middle;\n",
              "    }\n",
              "\n",
              "    .dataframe tbody tr th {\n",
              "        vertical-align: top;\n",
              "    }\n",
              "\n",
              "    .dataframe thead th {\n",
              "        text-align: right;\n",
              "    }\n",
              "</style>\n",
              "<table border=\"1\" class=\"dataframe\">\n",
              "  <thead>\n",
              "    <tr style=\"text-align: right;\">\n",
              "      <th></th>\n",
              "      <th>userId</th>\n",
              "      <th>movieId</th>\n",
              "      <th>rating</th>\n",
              "      <th>timestamp</th>\n",
              "      <th>gave_rating_year</th>\n",
              "      <th>gave_rating_month</th>\n",
              "      <th>sentiment_analysis</th>\n",
              "    </tr>\n",
              "  </thead>\n",
              "  <tbody>\n",
              "    <tr>\n",
              "      <th>0</th>\n",
              "      <td>1</td>\n",
              "      <td>2</td>\n",
              "      <td>3.5</td>\n",
              "      <td>2005-02-04 23:53:00</td>\n",
              "      <td>2005</td>\n",
              "      <td>Feb</td>\n",
              "      <td>Neutral</td>\n",
              "    </tr>\n",
              "    <tr>\n",
              "      <th>1</th>\n",
              "      <td>1</td>\n",
              "      <td>29</td>\n",
              "      <td>3.5</td>\n",
              "      <td>2005-02-04 23:31:00</td>\n",
              "      <td>2005</td>\n",
              "      <td>Feb</td>\n",
              "      <td>Neutral</td>\n",
              "    </tr>\n",
              "    <tr>\n",
              "      <th>2</th>\n",
              "      <td>1</td>\n",
              "      <td>32</td>\n",
              "      <td>3.5</td>\n",
              "      <td>2005-02-04 23:33:00</td>\n",
              "      <td>2005</td>\n",
              "      <td>Feb</td>\n",
              "      <td>Neutral</td>\n",
              "    </tr>\n",
              "  </tbody>\n",
              "</table>\n",
              "</div>"
            ],
            "text/plain": [
              "   userId  movieId  ...  gave_rating_month sentiment_analysis\n",
              "0       1        2  ...                Feb            Neutral\n",
              "1       1       29  ...                Feb            Neutral\n",
              "2       1       32  ...                Feb            Neutral\n",
              "\n",
              "[3 rows x 7 columns]"
            ]
          },
          "metadata": {},
          "execution_count": 15
        }
      ]
    },
    {
      "cell_type": "code",
      "metadata": {
        "colab": {
          "base_uri": "https://localhost:8080/",
          "height": 143
        },
        "id": "n7tMc-uPhqDb",
        "outputId": "0495af60-1fc0-4eca-b6ba-bdfc94f9f671"
      },
      "source": [
        "movie_df.head(3)"
      ],
      "execution_count": 16,
      "outputs": [
        {
          "output_type": "execute_result",
          "data": {
            "text/html": [
              "<div>\n",
              "<style scoped>\n",
              "    .dataframe tbody tr th:only-of-type {\n",
              "        vertical-align: middle;\n",
              "    }\n",
              "\n",
              "    .dataframe tbody tr th {\n",
              "        vertical-align: top;\n",
              "    }\n",
              "\n",
              "    .dataframe thead th {\n",
              "        text-align: right;\n",
              "    }\n",
              "</style>\n",
              "<table border=\"1\" class=\"dataframe\">\n",
              "  <thead>\n",
              "    <tr style=\"text-align: right;\">\n",
              "      <th></th>\n",
              "      <th>movieId</th>\n",
              "      <th>title</th>\n",
              "      <th>genres</th>\n",
              "    </tr>\n",
              "  </thead>\n",
              "  <tbody>\n",
              "    <tr>\n",
              "      <th>0</th>\n",
              "      <td>1</td>\n",
              "      <td>Toy Story (1995)</td>\n",
              "      <td>Adventure|Animation|Children|Comedy|Fantasy</td>\n",
              "    </tr>\n",
              "    <tr>\n",
              "      <th>1</th>\n",
              "      <td>2</td>\n",
              "      <td>Jumanji (1995)</td>\n",
              "      <td>Adventure|Children|Fantasy</td>\n",
              "    </tr>\n",
              "    <tr>\n",
              "      <th>2</th>\n",
              "      <td>3</td>\n",
              "      <td>Grumpier Old Men (1995)</td>\n",
              "      <td>Comedy|Romance</td>\n",
              "    </tr>\n",
              "  </tbody>\n",
              "</table>\n",
              "</div>"
            ],
            "text/plain": [
              "   movieId  ...                                       genres\n",
              "0        1  ...  Adventure|Animation|Children|Comedy|Fantasy\n",
              "1        2  ...                   Adventure|Children|Fantasy\n",
              "2        3  ...                               Comedy|Romance\n",
              "\n",
              "[3 rows x 3 columns]"
            ]
          },
          "metadata": {},
          "execution_count": 16
        }
      ]
    },
    {
      "cell_type": "code",
      "metadata": {
        "colab": {
          "base_uri": "https://localhost:8080/"
        },
        "id": "XcDPaYZThrOT",
        "outputId": "35f93eaf-b6a1-403b-98ca-0d1bb185b0b3"
      },
      "source": [
        "final_df = pd.merge(rating_df, movie_df, on='movieId', how='inner')  # by default ‘inner’\n",
        "final_df.shape"
      ],
      "execution_count": 17,
      "outputs": [
        {
          "output_type": "execute_result",
          "data": {
            "text/plain": [
              "(231141, 9)"
            ]
          },
          "metadata": {},
          "execution_count": 17
        }
      ]
    },
    {
      "cell_type": "code",
      "metadata": {
        "colab": {
          "base_uri": "https://localhost:8080/",
          "height": 400
        },
        "id": "Lq4Rhkjfhw9y",
        "outputId": "d6c75bf4-3f50-4f2e-f8c5-c3e3f61e1936"
      },
      "source": [
        "final_df.head()"
      ],
      "execution_count": 18,
      "outputs": [
        {
          "output_type": "execute_result",
          "data": {
            "text/html": [
              "<div>\n",
              "<style scoped>\n",
              "    .dataframe tbody tr th:only-of-type {\n",
              "        vertical-align: middle;\n",
              "    }\n",
              "\n",
              "    .dataframe tbody tr th {\n",
              "        vertical-align: top;\n",
              "    }\n",
              "\n",
              "    .dataframe thead th {\n",
              "        text-align: right;\n",
              "    }\n",
              "</style>\n",
              "<table border=\"1\" class=\"dataframe\">\n",
              "  <thead>\n",
              "    <tr style=\"text-align: right;\">\n",
              "      <th></th>\n",
              "      <th>userId</th>\n",
              "      <th>movieId</th>\n",
              "      <th>rating</th>\n",
              "      <th>timestamp</th>\n",
              "      <th>gave_rating_year</th>\n",
              "      <th>gave_rating_month</th>\n",
              "      <th>sentiment_analysis</th>\n",
              "      <th>title</th>\n",
              "      <th>genres</th>\n",
              "    </tr>\n",
              "  </thead>\n",
              "  <tbody>\n",
              "    <tr>\n",
              "      <th>0</th>\n",
              "      <td>1</td>\n",
              "      <td>2</td>\n",
              "      <td>3.5</td>\n",
              "      <td>2005-02-04 23:53:00</td>\n",
              "      <td>2005</td>\n",
              "      <td>Feb</td>\n",
              "      <td>Neutral</td>\n",
              "      <td>Jumanji (1995)</td>\n",
              "      <td>Adventure|Children|Fantasy</td>\n",
              "    </tr>\n",
              "    <tr>\n",
              "      <th>1</th>\n",
              "      <td>5</td>\n",
              "      <td>2</td>\n",
              "      <td>3.0</td>\n",
              "      <td>1996-12-25 15:26:00</td>\n",
              "      <td>1996</td>\n",
              "      <td>Dec</td>\n",
              "      <td>Neutral</td>\n",
              "      <td>Jumanji (1995)</td>\n",
              "      <td>Adventure|Children|Fantasy</td>\n",
              "    </tr>\n",
              "    <tr>\n",
              "      <th>2</th>\n",
              "      <td>13</td>\n",
              "      <td>2</td>\n",
              "      <td>3.0</td>\n",
              "      <td>1996-11-27 08:19:00</td>\n",
              "      <td>1996</td>\n",
              "      <td>Nov</td>\n",
              "      <td>Neutral</td>\n",
              "      <td>Jumanji (1995)</td>\n",
              "      <td>Adventure|Children|Fantasy</td>\n",
              "    </tr>\n",
              "    <tr>\n",
              "      <th>3</th>\n",
              "      <td>29</td>\n",
              "      <td>2</td>\n",
              "      <td>3.0</td>\n",
              "      <td>1996-06-23 20:36:00</td>\n",
              "      <td>1996</td>\n",
              "      <td>Jun</td>\n",
              "      <td>Neutral</td>\n",
              "      <td>Jumanji (1995)</td>\n",
              "      <td>Adventure|Children|Fantasy</td>\n",
              "    </tr>\n",
              "    <tr>\n",
              "      <th>4</th>\n",
              "      <td>34</td>\n",
              "      <td>2</td>\n",
              "      <td>3.0</td>\n",
              "      <td>1996-10-28 13:29:00</td>\n",
              "      <td>1996</td>\n",
              "      <td>Oct</td>\n",
              "      <td>Neutral</td>\n",
              "      <td>Jumanji (1995)</td>\n",
              "      <td>Adventure|Children|Fantasy</td>\n",
              "    </tr>\n",
              "  </tbody>\n",
              "</table>\n",
              "</div>"
            ],
            "text/plain": [
              "   userId  movieId  ...           title                      genres\n",
              "0       1        2  ...  Jumanji (1995)  Adventure|Children|Fantasy\n",
              "1       5        2  ...  Jumanji (1995)  Adventure|Children|Fantasy\n",
              "2      13        2  ...  Jumanji (1995)  Adventure|Children|Fantasy\n",
              "3      29        2  ...  Jumanji (1995)  Adventure|Children|Fantasy\n",
              "4      34        2  ...  Jumanji (1995)  Adventure|Children|Fantasy\n",
              "\n",
              "[5 rows x 9 columns]"
            ]
          },
          "metadata": {},
          "execution_count": 18
        }
      ]
    },
    {
      "cell_type": "code",
      "metadata": {
        "colab": {
          "base_uri": "https://localhost:8080/",
          "height": 206
        },
        "id": "4NItI5JQ8bSM",
        "outputId": "7dab00ec-dbe5-4923-fa12-4a1ace6adbd0"
      },
      "source": [
        "d=rating_df.groupby('movieId').mean()['rating']\n",
        "df=pd.DataFrame(d, columns=['rating']).reset_index()\n",
        "df.head()"
      ],
      "execution_count": 19,
      "outputs": [
        {
          "output_type": "execute_result",
          "data": {
            "text/html": [
              "<div>\n",
              "<style scoped>\n",
              "    .dataframe tbody tr th:only-of-type {\n",
              "        vertical-align: middle;\n",
              "    }\n",
              "\n",
              "    .dataframe tbody tr th {\n",
              "        vertical-align: top;\n",
              "    }\n",
              "\n",
              "    .dataframe thead th {\n",
              "        text-align: right;\n",
              "    }\n",
              "</style>\n",
              "<table border=\"1\" class=\"dataframe\">\n",
              "  <thead>\n",
              "    <tr style=\"text-align: right;\">\n",
              "      <th></th>\n",
              "      <th>movieId</th>\n",
              "      <th>rating</th>\n",
              "    </tr>\n",
              "  </thead>\n",
              "  <tbody>\n",
              "    <tr>\n",
              "      <th>0</th>\n",
              "      <td>1</td>\n",
              "      <td>4.000000</td>\n",
              "    </tr>\n",
              "    <tr>\n",
              "      <th>1</th>\n",
              "      <td>2</td>\n",
              "      <td>3.284000</td>\n",
              "    </tr>\n",
              "    <tr>\n",
              "      <th>2</th>\n",
              "      <td>3</td>\n",
              "      <td>3.193104</td>\n",
              "    </tr>\n",
              "    <tr>\n",
              "      <th>3</th>\n",
              "      <td>4</td>\n",
              "      <td>3.038461</td>\n",
              "    </tr>\n",
              "    <tr>\n",
              "      <th>4</th>\n",
              "      <td>5</td>\n",
              "      <td>3.144295</td>\n",
              "    </tr>\n",
              "  </tbody>\n",
              "</table>\n",
              "</div>"
            ],
            "text/plain": [
              "   movieId    rating\n",
              "0        1  4.000000\n",
              "1        2  3.284000\n",
              "2        3  3.193104\n",
              "3        4  3.038461\n",
              "4        5  3.144295"
            ]
          },
          "metadata": {},
          "execution_count": 19
        }
      ]
    },
    {
      "cell_type": "code",
      "metadata": {
        "colab": {
          "base_uri": "https://localhost:8080/",
          "height": 206
        },
        "id": "oTb5DgxW8w6e",
        "outputId": "70281334-2625-4d16-aa2c-32a888b44932"
      },
      "source": [
        "df2=pd.merge(movie_df, df, on='movieId', how='left' )\n",
        "df2['Year']=df2['title'].str.extract('.*\\((.*)\\).*')\n",
        "df2.head()"
      ],
      "execution_count": 20,
      "outputs": [
        {
          "output_type": "execute_result",
          "data": {
            "text/html": [
              "<div>\n",
              "<style scoped>\n",
              "    .dataframe tbody tr th:only-of-type {\n",
              "        vertical-align: middle;\n",
              "    }\n",
              "\n",
              "    .dataframe tbody tr th {\n",
              "        vertical-align: top;\n",
              "    }\n",
              "\n",
              "    .dataframe thead th {\n",
              "        text-align: right;\n",
              "    }\n",
              "</style>\n",
              "<table border=\"1\" class=\"dataframe\">\n",
              "  <thead>\n",
              "    <tr style=\"text-align: right;\">\n",
              "      <th></th>\n",
              "      <th>movieId</th>\n",
              "      <th>title</th>\n",
              "      <th>genres</th>\n",
              "      <th>rating</th>\n",
              "      <th>Year</th>\n",
              "    </tr>\n",
              "  </thead>\n",
              "  <tbody>\n",
              "    <tr>\n",
              "      <th>0</th>\n",
              "      <td>1</td>\n",
              "      <td>Toy Story (1995)</td>\n",
              "      <td>Adventure|Animation|Children|Comedy|Fantasy</td>\n",
              "      <td>4.000000</td>\n",
              "      <td>1995</td>\n",
              "    </tr>\n",
              "    <tr>\n",
              "      <th>1</th>\n",
              "      <td>2</td>\n",
              "      <td>Jumanji (1995)</td>\n",
              "      <td>Adventure|Children|Fantasy</td>\n",
              "      <td>3.284000</td>\n",
              "      <td>1995</td>\n",
              "    </tr>\n",
              "    <tr>\n",
              "      <th>2</th>\n",
              "      <td>3</td>\n",
              "      <td>Grumpier Old Men (1995)</td>\n",
              "      <td>Comedy|Romance</td>\n",
              "      <td>3.193104</td>\n",
              "      <td>1995</td>\n",
              "    </tr>\n",
              "    <tr>\n",
              "      <th>3</th>\n",
              "      <td>4</td>\n",
              "      <td>Waiting to Exhale (1995)</td>\n",
              "      <td>Comedy|Drama|Romance</td>\n",
              "      <td>3.038461</td>\n",
              "      <td>1995</td>\n",
              "    </tr>\n",
              "    <tr>\n",
              "      <th>4</th>\n",
              "      <td>5</td>\n",
              "      <td>Father of the Bride Part II (1995)</td>\n",
              "      <td>Comedy</td>\n",
              "      <td>3.144295</td>\n",
              "      <td>1995</td>\n",
              "    </tr>\n",
              "  </tbody>\n",
              "</table>\n",
              "</div>"
            ],
            "text/plain": [
              "   movieId                               title  ...    rating  Year\n",
              "0        1                    Toy Story (1995)  ...  4.000000  1995\n",
              "1        2                      Jumanji (1995)  ...  3.284000  1995\n",
              "2        3             Grumpier Old Men (1995)  ...  3.193104  1995\n",
              "3        4            Waiting to Exhale (1995)  ...  3.038461  1995\n",
              "4        5  Father of the Bride Part II (1995)  ...  3.144295  1995\n",
              "\n",
              "[5 rows x 5 columns]"
            ]
          },
          "metadata": {},
          "execution_count": 20
        }
      ]
    },
    {
      "cell_type": "code",
      "metadata": {
        "id": "VZw2aBEZ8-CN"
      },
      "source": [
        "df2['Year'].replace(['Das Millionenspiel','Bicicleta, cullera, poma','2007-','2009– ', '1975-1979', '1983)'], value=[np.nan, np.nan, '2007', '2009', '1975', '1983' ], inplace=True)"
      ],
      "execution_count": 21,
      "outputs": []
    },
    {
      "cell_type": "code",
      "metadata": {
        "id": "r_e8OR1j9_i-"
      },
      "source": [
        "genres_lis=['Romance', 'Fantasy', 'Animation', 'Action', 'Film-Noir', 'Adventure', 'Horror', 'IMAX', 'Musical', 'War', 'Drama', 'Comedy', 'Crime', 'Mystery', '(no genres listed)', 'Documentary', 'Western', 'Thriller', 'Children', 'Sci-Fi']\n",
        "df3=df_gscores[df_gscores.groupby('movieId')['relevance'].transform(max)==df_gscores['relevance']]\n",
        "df3=df3.drop_duplicates(subset='movieId')\n",
        "df4=pd.merge(df3, df_gtag, how='left', on='tagId')\n",
        "df5=pd.merge(df2, df4, how='left', on='movieId')\n",
        "df5.rename(mapper={'tag':'High_relevance_tag', 'tagId':'High_relevance_tagId'}, axis=1, inplace=True)\n",
        "for i in range(len(genres_lis)):\n",
        "    df5[genres_lis[i]]=df5['genres'].str.contains(genres_lis[i])"
      ],
      "execution_count": 22,
      "outputs": []
    },
    {
      "cell_type": "markdown",
      "metadata": {
        "id": "8aw2_YL9w_g_"
      },
      "source": [
        "Both datasets don't have missing or duplicated values\n",
        "\n",
        "Add new features using datetime for analysist & EDA"
      ]
    },
    {
      "cell_type": "markdown",
      "metadata": {
        "id": "f3XKRGal79T5"
      },
      "source": [
        "# Visualization"
      ]
    },
    {
      "cell_type": "code",
      "metadata": {
        "colab": {
          "base_uri": "https://localhost:8080/",
          "height": 352
        },
        "id": "kbo_23LY8Gze",
        "outputId": "34d8eb37-ab19-4bad-b67d-131ebc57527e"
      },
      "source": [
        "plt.hist(rating_df['rating'])"
      ],
      "execution_count": 23,
      "outputs": [
        {
          "output_type": "execute_result",
          "data": {
            "text/plain": [
              "(array([ 3530.,  8556.,  3254., 16930., 10049., 50408., 24754., 63493.,\n",
              "        17337., 32835.]),\n",
              " array([0.5 , 0.95, 1.4 , 1.85, 2.3 , 2.75, 3.2 , 3.65, 4.1 , 4.55, 5.  ],\n",
              "       dtype=float32),\n",
              " <a list of 10 Patch objects>)"
            ]
          },
          "metadata": {},
          "execution_count": 23
        },
        {
          "output_type": "display_data",
          "data": {
            "image/png": "[encoded data removed]",
            "text/plain": [
              "<Figure size 432x288 with 1 Axes>"
            ]
          },
          "metadata": {
            "needs_background": "light"
          }
        }
      ]
    },
    {
      "cell_type": "code",
      "metadata": {
        "colab": {
          "base_uri": "https://localhost:8080/",
          "height": 297
        },
        "id": "_v1On42f8KzW",
        "outputId": "95fb02f7-c7ed-4fc0-85f1-670385933113"
      },
      "source": [
        "sns.boxplot(df['rating'], orient='v')"
      ],
      "execution_count": 24,
      "outputs": [
        {
          "output_type": "execute_result",
          "data": {
            "text/plain": [
              "<matplotlib.axes._subplots.AxesSubplot at 0x7f0cdc38cf50>"
            ]
          },
          "metadata": {},
          "execution_count": 24
        },
        {
          "output_type": "display_data",
          "data": {
            "image/png": "[encoded data removed]",
            "text/plain": [
              "<Figure size 432x288 with 1 Axes>"
            ]
          },
          "metadata": {
            "needs_background": "light"
          }
        }
      ]
    },
    {
      "cell_type": "code",
      "metadata": {
        "colab": {
          "base_uri": "https://localhost:8080/",
          "height": 297
        },
        "id": "dJ98HNfo84AV",
        "outputId": "bd4f9643-2d87-4465-c0ca-02dfc5d562d3"
      },
      "source": [
        "sns.distplot(df2['Year'].dropna().astype('int64'))"
      ],
      "execution_count": 25,
      "outputs": [
        {
          "output_type": "execute_result",
          "data": {
            "text/plain": [
              "<matplotlib.axes._subplots.AxesSubplot at 0x7f0cdc3f7050>"
            ]
          },
          "metadata": {},
          "execution_count": 25
        },
        {
          "output_type": "display_data",
          "data": {
            "image/png": "[encoded data removed]",
            "text/plain": [
              "<Figure size 432x288 with 1 Axes>"
            ]
          },
          "metadata": {
            "needs_background": "light"
          }
        }
      ]
    },
    {
      "cell_type": "code",
      "metadata": {
        "colab": {
          "base_uri": "https://localhost:8080/",
          "height": 417
        },
        "id": "QtWKFpLs9GoF",
        "outputId": "f1a1e5fe-5102-4e78-b280-59337e692dc4"
      },
      "source": [
        "import plotly.express as px\n",
        "from plotly.subplots import make_subplots\n",
        "import plotly.graph_objs as go\n",
        "el = rating_df[\"rating\"].value_counts().reset_index()\n",
        "el.columns = [\"rating\", \"percent\"]\n",
        "el[\"percent\"] /= rating_df.shape[0]\n",
        "\n",
        "fig = px.pie(el,\n",
        "            names=\"rating\",\n",
        "            values=\"percent\",\n",
        "            title = \"Rating Percent\",\n",
        "            width = 600,\n",
        "            height=400\n",
        "            )\n",
        "fig.show()"
      ],
      "execution_count": 26,
      "outputs": [
        {
          "output_type": "display_data",
          "data": {
            "text/html": [
              "<html>\n",
              "<head><meta charset=\"utf-8\" /></head>\n",
              "<body>\n",
              "    <div>\n",
              "            <script src=\"https://cdnjs.cloudflare.com/ajax/libs/mathjax/2.7.5/MathJax.js?config=TeX-AMS-MML_SVG\"></script><script type=\"text/javascript\">if (window.MathJax) {MathJax.Hub.Config({SVG: {font: \"STIX-Web\"}});}</script>\n",
              "                <script type=\"text/javascript\">window.PlotlyConfig = {MathJaxConfig: 'local'};</script>\n",
              "        <script src=\"https://cdn.plot.ly/plotly-latest.min.js\"></script>    \n",
              "            <div id=\"a24b6e13-a005-4f64-a42c-8fed6ee1e07d\" class=\"plotly-graph-div\" style=\"height:400px; width:600px;\"></div>\n",
              "            <script type=\"text/javascript\">\n",
              "                \n",
              "                    window.PLOTLYENV=window.PLOTLYENV || {};\n",
              "                    \n",
              "                if (document.getElementById(\"a24b6e13-a005-4f64-a42c-8fed6ee1e07d\")) {\n",
              "                    Plotly.newPlot(\n",
              "                        'a24b6e13-a005-4f64-a42c-8fed6ee1e07d',\n",
              "                        [{\"domain\": {\"x\": [0.0, 1.0], \"y\": [0.0, 1.0]}, \"hoverlabel\": {\"namelength\": 0}, \"hovertemplate\": \"rating=%{label}<br>percent=%{value}\", \"labels\": [4.0, 3.0, 5.0, 3.5, 4.5, 2.0, 2.5, 1.0, 0.5, 1.5], \"legendgroup\": \"\", \"name\": \"\", \"showlegend\": true, \"type\": \"pie\", \"values\": [0.2746878596211918, 0.2180786169780139, 0.14205307468007233, 0.10709248699955871, 0.07500454258347537, 0.07324375070301888, 0.0434746869943672, 0.03701556591937563, 0.015271733017227207, 0.01407768250369896]}],\n",
              "                        {\"height\": 400, \"legend\": {\"tracegroupgap\": 0}, \"template\": {\"data\": {\"bar\": [{\"error_x\": {\"color\": \"#2a3f5f\"}, \"error_y\": {\"color\": \"#2a3f5f\"}, \"marker\": {\"line\": {\"color\": \"#E5ECF6\", \"width\": 0.5}}, \"type\": \"bar\"}], \"barpolar\": [{\"marker\": {\"line\": {\"color\": \"#E5ECF6\", \"width\": 0.5}}, \"type\": \"barpolar\"}], \"carpet\": [{\"aaxis\": {\"endlinecolor\": \"#2a3f5f\", \"gridcolor\": \"white\", \"linecolor\": \"white\", \"minorgridcolor\": \"white\", \"startlinecolor\": \"#2a3f5f\"}, \"baxis\": {\"endlinecolor\": \"#2a3f5f\", \"gridcolor\": \"white\", \"linecolor\": \"white\", \"minorgridcolor\": \"white\", \"startlinecolor\": \"#2a3f5f\"}, \"type\": \"carpet\"}], \"choropleth\": [{\"colorbar\": {\"outlinewidth\": 0, \"ticks\": \"\"}, \"type\": \"choropleth\"}], \"contour\": [{\"colorbar\": {\"outlinewidth\": 0, \"ticks\": \"\"}, \"colorscale\": [[0.0, \"#0d0887\"], [0.1111111111111111, \"#46039f\"], [0.2222222222222222, \"#7201a8\"], [0.3333333333333333, \"#9c179e\"], [0.4444444444444444, \"#bd3786\"], [0.5555555555555556, \"#d8576b\"], [0.6666666666666666, \"#ed7953\"], [0.7777777777777778, \"#fb9f3a\"], [0.8888888888888888, \"#fdca26\"], [1.0, \"#f0f921\"]], \"type\": \"contour\"}], \"contourcarpet\": [{\"colorbar\": {\"outlinewidth\": 0, \"ticks\": \"\"}, \"type\": \"contourcarpet\"}], \"heatmap\": [{\"colorbar\": {\"outlinewidth\": 0, \"ticks\": \"\"}, \"colorscale\": [[0.0, \"#0d0887\"], [0.1111111111111111, \"#46039f\"], [0.2222222222222222, \"#7201a8\"], [0.3333333333333333, \"#9c179e\"], [0.4444444444444444, \"#bd3786\"], [0.5555555555555556, \"#d8576b\"], [0.6666666666666666, \"#ed7953\"], [0.7777777777777778, \"#fb9f3a\"], [0.8888888888888888, \"#fdca26\"], [1.0, \"#f0f921\"]], \"type\": \"heatmap\"}], \"heatmapgl\": [{\"colorbar\": {\"outlinewidth\": 0, \"ticks\": \"\"}, \"colorscale\": [[0.0, \"#0d0887\"], [0.1111111111111111, \"#46039f\"], [0.2222222222222222, \"#7201a8\"], [0.3333333333333333, \"#9c179e\"], [0.4444444444444444, \"#bd3786\"], [0.5555555555555556, \"#d8576b\"], [0.6666666666666666, \"#ed7953\"], [0.7777777777777778, \"#fb9f3a\"], [0.8888888888888888, \"#fdca26\"], [1.0, \"#f0f921\"]], \"type\": \"heatmapgl\"}], \"histogram\": [{\"marker\": {\"colorbar\": {\"outlinewidth\": 0, \"ticks\": \"\"}}, \"type\": \"histogram\"}], \"histogram2d\": [{\"colorbar\": {\"outlinewidth\": 0, \"ticks\": \"\"}, \"colorscale\": [[0.0, \"#0d0887\"], [0.1111111111111111, \"#46039f\"], [0.2222222222222222, \"#7201a8\"], [0.3333333333333333, \"#9c179e\"], [0.4444444444444444, \"#bd3786\"], [0.5555555555555556, \"#d8576b\"], [0.6666666666666666, \"#ed7953\"], [0.7777777777777778, \"#fb9f3a\"], [0.8888888888888888, \"#fdca26\"], [1.0, \"#f0f921\"]], \"type\": \"histogram2d\"}], \"histogram2dcontour\": [{\"colorbar\": {\"outlinewidth\": 0, \"ticks\": \"\"}, \"colorscale\": [[0.0, \"#0d0887\"], [0.1111111111111111, \"#46039f\"], [0.2222222222222222, \"#7201a8\"], [0.3333333333333333, \"#9c179e\"], [0.4444444444444444, \"#bd3786\"], [0.5555555555555556, \"#d8576b\"], [0.6666666666666666, \"#ed7953\"], [0.7777777777777778, \"#fb9f3a\"], [0.8888888888888888, \"#fdca26\"], [1.0, \"#f0f921\"]], \"type\": \"histogram2dcontour\"}], \"mesh3d\": [{\"colorbar\": {\"outlinewidth\": 0, \"ticks\": \"\"}, \"type\": \"mesh3d\"}], \"parcoords\": [{\"line\": {\"colorbar\": {\"outlinewidth\": 0, \"ticks\": \"\"}}, \"type\": \"parcoords\"}], \"pie\": [{\"automargin\": true, \"type\": \"pie\"}], \"scatter\": [{\"marker\": {\"colorbar\": {\"outlinewidth\": 0, \"ticks\": \"\"}}, \"type\": \"scatter\"}], \"scatter3d\": [{\"line\": {\"colorbar\": {\"outlinewidth\": 0, \"ticks\": \"\"}}, \"marker\": {\"colorbar\": {\"outlinewidth\": 0, \"ticks\": \"\"}}, \"type\": \"scatter3d\"}], \"scattercarpet\": [{\"marker\": {\"colorbar\": {\"outlinewidth\": 0, \"ticks\": \"\"}}, \"type\": \"scattercarpet\"}], \"scattergeo\": [{\"marker\": {\"colorbar\": {\"outlinewidth\": 0, \"ticks\": \"\"}}, \"type\": \"scattergeo\"}], \"scattergl\": [{\"marker\": {\"colorbar\": {\"outlinewidth\": 0, \"ticks\": \"\"}}, \"type\": \"scattergl\"}], \"scattermapbox\": [{\"marker\": {\"colorbar\": {\"outlinewidth\": 0, \"ticks\": \"\"}}, \"type\": \"scattermapbox\"}], \"scatterpolar\": [{\"marker\": {\"colorbar\": {\"outlinewidth\": 0, \"ticks\": \"\"}}, \"type\": \"scatterpolar\"}], \"scatterpolargl\": [{\"marker\": {\"colorbar\": {\"outlinewidth\": 0, \"ticks\": \"\"}}, \"type\": \"scatterpolargl\"}], \"scatterternary\": [{\"marker\": {\"colorbar\": {\"outlinewidth\": 0, \"ticks\": \"\"}}, \"type\": \"scatterternary\"}], \"surface\": [{\"colorbar\": {\"outlinewidth\": 0, \"ticks\": \"\"}, \"colorscale\": [[0.0, \"#0d0887\"], [0.1111111111111111, \"#46039f\"], [0.2222222222222222, \"#7201a8\"], [0.3333333333333333, \"#9c179e\"], [0.4444444444444444, \"#bd3786\"], [0.5555555555555556, \"#d8576b\"], [0.6666666666666666, \"#ed7953\"], [0.7777777777777778, \"#fb9f3a\"], [0.8888888888888888, \"#fdca26\"], [1.0, \"#f0f921\"]], \"type\": \"surface\"}], \"table\": [{\"cells\": {\"fill\": {\"color\": \"#EBF0F8\"}, \"line\": {\"color\": \"white\"}}, \"header\": {\"fill\": {\"color\": \"#C8D4E3\"}, \"line\": {\"color\": \"white\"}}, \"type\": \"table\"}]}, \"layout\": {\"annotationdefaults\": {\"arrowcolor\": \"#2a3f5f\", \"arrowhead\": 0, \"arrowwidth\": 1}, \"coloraxis\": {\"colorbar\": {\"outlinewidth\": 0, \"ticks\": \"\"}}, \"colorscale\": {\"diverging\": [[0, \"#8e0152\"], [0.1, \"#c51b7d\"], [0.2, \"#de77ae\"], [0.3, \"#f1b6da\"], [0.4, \"#fde0ef\"], [0.5, \"#f7f7f7\"], [0.6, \"#e6f5d0\"], [0.7, \"#b8e186\"], [0.8, \"#7fbc41\"], [0.9, \"#4d9221\"], [1, \"#276419\"]], \"sequential\": [[0.0, \"#0d0887\"], [0.1111111111111111, \"#46039f\"], [0.2222222222222222, \"#7201a8\"], [0.3333333333333333, \"#9c179e\"], [0.4444444444444444, \"#bd3786\"], [0.5555555555555556, \"#d8576b\"], [0.6666666666666666, \"#ed7953\"], [0.7777777777777778, \"#fb9f3a\"], [0.8888888888888888, \"#fdca26\"], [1.0, \"#f0f921\"]], \"sequentialminus\": [[0.0, \"#0d0887\"], [0.1111111111111111, \"#46039f\"], [0.2222222222222222, \"#7201a8\"], [0.3333333333333333, \"#9c179e\"], [0.4444444444444444, \"#bd3786\"], [0.5555555555555556, \"#d8576b\"], [0.6666666666666666, \"#ed7953\"], [0.7777777777777778, \"#fb9f3a\"], [0.8888888888888888, \"#fdca26\"], [1.0, \"#f0f921\"]]}, \"colorway\": [\"#636efa\", \"#EF553B\", \"#00cc96\", \"#ab63fa\", \"#FFA15A\", \"#19d3f3\", \"#FF6692\", \"#B6E880\", \"#FF97FF\", \"#FECB52\"], \"font\": {\"color\": \"#2a3f5f\"}, \"geo\": {\"bgcolor\": \"white\", \"lakecolor\": \"white\", \"landcolor\": \"#E5ECF6\", \"showlakes\": true, \"showland\": true, \"subunitcolor\": \"white\"}, \"hoverlabel\": {\"align\": \"left\"}, \"hovermode\": \"closest\", \"mapbox\": {\"style\": \"light\"}, \"paper_bgcolor\": \"white\", \"plot_bgcolor\": \"#E5ECF6\", \"polar\": {\"angularaxis\": {\"gridcolor\": \"white\", \"linecolor\": \"white\", \"ticks\": \"\"}, \"bgcolor\": \"#E5ECF6\", \"radialaxis\": {\"gridcolor\": \"white\", \"linecolor\": \"white\", \"ticks\": \"\"}}, \"scene\": {\"xaxis\": {\"backgroundcolor\": \"#E5ECF6\", \"gridcolor\": \"white\", \"gridwidth\": 2, \"linecolor\": \"white\", \"showbackground\": true, \"ticks\": \"\", \"zerolinecolor\": \"white\"}, \"yaxis\": {\"backgroundcolor\": \"#E5ECF6\", \"gridcolor\": \"white\", \"gridwidth\": 2, \"linecolor\": \"white\", \"showbackground\": true, \"ticks\": \"\", \"zerolinecolor\": \"white\"}, \"zaxis\": {\"backgroundcolor\": \"#E5ECF6\", \"gridcolor\": \"white\", \"gridwidth\": 2, \"linecolor\": \"white\", \"showbackground\": true, \"ticks\": \"\", \"zerolinecolor\": \"white\"}}, \"shapedefaults\": {\"line\": {\"color\": \"#2a3f5f\"}}, \"ternary\": {\"aaxis\": {\"gridcolor\": \"white\", \"linecolor\": \"white\", \"ticks\": \"\"}, \"baxis\": {\"gridcolor\": \"white\", \"linecolor\": \"white\", \"ticks\": \"\"}, \"bgcolor\": \"#E5ECF6\", \"caxis\": {\"gridcolor\": \"white\", \"linecolor\": \"white\", \"ticks\": \"\"}}, \"title\": {\"x\": 0.05}, \"xaxis\": {\"automargin\": true, \"gridcolor\": \"white\", \"linecolor\": \"white\", \"ticks\": \"\", \"title\": {\"standoff\": 15}, \"zerolinecolor\": \"white\", \"zerolinewidth\": 2}, \"yaxis\": {\"automargin\": true, \"gridcolor\": \"white\", \"linecolor\": \"white\", \"ticks\": \"\", \"title\": {\"standoff\": 15}, \"zerolinecolor\": \"white\", \"zerolinewidth\": 2}}}, \"title\": {\"text\": \"Rating Percent\"}, \"width\": 600},\n",
              "                        {\"responsive\": true}\n",
              "                    ).then(function(){\n",
              "                            \n",
              "var gd = document.getElementById('a24b6e13-a005-4f64-a42c-8fed6ee1e07d');\n",
              "var x = new MutationObserver(function (mutations, observer) {{\n",
              "        var display = window.getComputedStyle(gd).display;\n",
              "        if (!display || display === 'none') {{\n",
              "            console.log([gd, 'removed!']);\n",
              "            Plotly.purge(gd);\n",
              "            observer.disconnect();\n",
              "        }}\n",
              "}});\n",
              "\n",
              "// Listen for the removal of the full notebook cells\n",
              "var notebookContainer = gd.closest('#notebook-container');\n",
              "if (notebookContainer) {{\n",
              "    x.observe(notebookContainer, {childList: true});\n",
              "}}\n",
              "\n",
              "// Listen for the clearing of the current output cell\n",
              "var outputEl = gd.closest('.output');\n",
              "if (outputEl) {{\n",
              "    x.observe(outputEl, {childList: true});\n",
              "}}\n",
              "\n",
              "                        })\n",
              "                };\n",
              "                \n",
              "            </script>\n",
              "        </div>\n",
              "</body>\n",
              "</html>"
            ]
          },
          "metadata": {}
        }
      ]
    },
    {
      "cell_type": "code",
      "metadata": {
        "colab": {
          "base_uri": "https://localhost:8080/",
          "height": 275
        },
        "id": "w4rdNYsW9VDW",
        "outputId": "8b74c0d9-2de4-4510-fa32-81203cd02586"
      },
      "source": [
        "import matplotlib.pyplot as plt\n",
        "plt.matshow(rating_df.corr())\n",
        "plt.show()"
      ],
      "execution_count": 27,
      "outputs": [
        {
          "output_type": "display_data",
          "data": {
            "image/png": "[encoded data removed]",
            "text/plain": [
              "<Figure size 288x288 with 1 Axes>"
            ]
          },
          "metadata": {
            "needs_background": "light"
          }
        }
      ]
    },
    {
      "cell_type": "code",
      "metadata": {
        "id": "iuAXdsE39b2M"
      },
      "source": [
        "genres_lis=['Romance', 'Fantasy', 'Animation', 'Action', 'Film-Noir', 'Adventure', 'Horror', 'IMAX', 'Musical', 'War', 'Drama', 'Comedy', 'Crime', 'Mystery', '(no genres listed)', 'Documentary', 'Western', 'Thriller', 'Children', 'Sci-Fi']"
      ],
      "execution_count": 28,
      "outputs": []
    },
    {
      "cell_type": "code",
      "metadata": {
        "colab": {
          "base_uri": "https://localhost:8080/",
          "height": 777
        },
        "id": "7t7w04Jb9jkU",
        "outputId": "641b9dea-dba0-4f4d-e4c4-c3c74d001ac0"
      },
      "source": [
        "avg_rating=[]\n",
        "for genre in genres_lis:\n",
        "    avg_rating.append(df2[df2['genres'].str.contains(genre)]['rating'].mean())\n",
        "    plt.figure(figsize=(8,5))\n",
        "sns.barplot(genres_lis, avg_rating,palette='Set1')\n",
        "plt.xticks(rotation='vertical')\n",
        "plt.ylabel('Avg. Rating')\n",
        "plt.xlabel('Genres')\n",
        "plt.title('Avg. Rating W.R.T Genres', fontsize=16)"
      ],
      "execution_count": 29,
      "outputs": [
        {
          "output_type": "execute_result",
          "data": {
            "text/plain": [
              "Text(0.5, 1.0, 'Avg. Rating W.R.T Genres')"
            ]
          },
          "metadata": {},
          "execution_count": 29
        },
        {
          "output_type": "display_data",
          "data": {
            "text/plain": [
              "<Figure size 576x360 with 0 Axes>"
            ]
          },
          "metadata": {}
        },
        {
          "output_type": "display_data",
          "data": {
            "text/plain": [
              "<Figure size 576x360 with 0 Axes>"
            ]
          },
          "metadata": {}
        },
        {
          "output_type": "display_data",
          "data": {
            "text/plain": [
              "<Figure size 576x360 with 0 Axes>"
            ]
          },
          "metadata": {}
        },
        {
          "output_type": "display_data",
          "data": {
            "text/plain": [
              "<Figure size 576x360 with 0 Axes>"
            ]
          },
          "metadata": {}
        },
        {
          "output_type": "display_data",
          "data": {
            "text/plain": [
              "<Figure size 576x360 with 0 Axes>"
            ]
          },
          "metadata": {}
        },
        {
          "output_type": "display_data",
          "data": {
            "text/plain": [
              "<Figure size 576x360 with 0 Axes>"
            ]
          },
          "metadata": {}
        },
        {
          "output_type": "display_data",
          "data": {
            "text/plain": [
              "<Figure size 576x360 with 0 Axes>"
            ]
          },
          "metadata": {}
        },
        {
          "output_type": "display_data",
          "data": {
            "text/plain": [
              "<Figure size 576x360 with 0 Axes>"
            ]
          },
          "metadata": {}
        },
        {
          "output_type": "display_data",
          "data": {
            "text/plain": [
              "<Figure size 576x360 with 0 Axes>"
            ]
          },
          "metadata": {}
        },
        {
          "output_type": "display_data",
          "data": {
            "text/plain": [
              "<Figure size 576x360 with 0 Axes>"
            ]
          },
          "metadata": {}
        },
        {
          "output_type": "display_data",
          "data": {
            "text/plain": [
              "<Figure size 576x360 with 0 Axes>"
            ]
          },
          "metadata": {}
        },
        {
          "output_type": "display_data",
          "data": {
            "text/plain": [
              "<Figure size 576x360 with 0 Axes>"
            ]
          },
          "metadata": {}
        },
        {
          "output_type": "display_data",
          "data": {
            "text/plain": [
              "<Figure size 576x360 with 0 Axes>"
            ]
          },
          "metadata": {}
        },
        {
          "output_type": "display_data",
          "data": {
            "text/plain": [
              "<Figure size 576x360 with 0 Axes>"
            ]
          },
          "metadata": {}
        },
        {
          "output_type": "display_data",
          "data": {
            "text/plain": [
              "<Figure size 576x360 with 0 Axes>"
            ]
          },
          "metadata": {}
        },
        {
          "output_type": "display_data",
          "data": {
            "text/plain": [
              "<Figure size 576x360 with 0 Axes>"
            ]
          },
          "metadata": {}
        },
        {
          "output_type": "display_data",
          "data": {
            "text/plain": [
              "<Figure size 576x360 with 0 Axes>"
            ]
          },
          "metadata": {}
        },
        {
          "output_type": "display_data",
          "data": {
            "text/plain": [
              "<Figure size 576x360 with 0 Axes>"
            ]
          },
          "metadata": {}
        },
        {
          "output_type": "display_data",
          "data": {
            "text/plain": [
              "<Figure size 576x360 with 0 Axes>"
            ]
          },
          "metadata": {}
        },
        {
          "output_type": "display_data",
          "data": {
            "image/png": "[encoded data removed]",
            "text/plain": [
              "<Figure size 576x360 with 1 Axes>"
            ]
          },
          "metadata": {
            "needs_background": "light"
          }
        }
      ]
    },
    {
      "cell_type": "code",
      "metadata": {
        "id": "CDE87g29hzDy"
      },
      "source": [
        "movie_genres = []\n",
        "\n",
        "for genre in movie_df['genres']:\n",
        "    for movie in genre.split('|'):\n",
        "        movie_genres.append(movie)"
      ],
      "execution_count": 30,
      "outputs": []
    },
    {
      "cell_type": "code",
      "metadata": {
        "id": "xqKp59N4h5ny"
      },
      "source": [
        "genre_counts = pd.Series(movie_genres).value_counts()[:18]"
      ],
      "execution_count": 31,
      "outputs": []
    },
    {
      "cell_type": "code",
      "metadata": {
        "colab": {
          "base_uri": "https://localhost:8080/",
          "height": 198
        },
        "id": "BcQDCruXh7-i",
        "outputId": "3b6c3765-7b98-4dc6-cfb3-daade8238a44"
      },
      "source": [
        "from wordcloud import WordCloud\n",
        "\n",
        "genres_cloud = WordCloud(width=800, height=400, background_color='white', colormap='magma')\n",
        "genres_cloud.generate_from_frequencies(genre_counts)\n",
        "\n",
        "plt.imshow(genres_cloud, interpolation='bilinear')\n",
        "plt.axis('off')\n",
        "plt.show()"
      ],
      "execution_count": 32,
      "outputs": [
        {
          "output_type": "display_data",
          "data": {
            "image/png": "[encoded data removed]",
            "text/plain": [
              "<Figure size 432x288 with 1 Axes>"
            ]
          },
          "metadata": {
            "needs_background": "light"
          }
        }
      ]
    },
    {
      "cell_type": "code",
      "metadata": {
        "colab": {
          "base_uri": "https://localhost:8080/",
          "height": 282
        },
        "id": "QnGF4rF0iBND",
        "outputId": "50d2d34d-9a06-461e-b5ad-8ca1eac19dc1"
      },
      "source": [
        "top_7_genres = pd.Series(movie_genres).value_counts()[:7]\n",
        "\n",
        "sns.barplot(y=top_7_genres.index, x=top_7_genres.values, palette='magma').set_title(\n",
        "        'Top-7 Movie Genres', fontsize=14, weight='bold')\n",
        "\n",
        "plt.show()"
      ],
      "execution_count": 33,
      "outputs": [
        {
          "output_type": "display_data",
          "data": {
            "image/png": "[encoded data removed]",
            "text/plain": [
              "<Figure size 432x288 with 1 Axes>"
            ]
          },
          "metadata": {
            "needs_background": "light"
          }
        }
      ]
    },
    {
      "cell_type": "code",
      "metadata": {
        "colab": {
          "base_uri": "https://localhost:8080/",
          "height": 286
        },
        "id": "LfQ1kp3oiEUi",
        "outputId": "29e0eab4-521e-4641-d385-c196b2c19bed"
      },
      "source": [
        "splot1 = sns.countplot(final_df['sentiment_analysis'])\n",
        "\n",
        "for p in splot1.patches:\n",
        "                splot1.annotate(format(p.get_height() / final_df['rating'].shape[0] * 100, '.1f'),\n",
        "                                (p.get_x() + p.get_width() / 2., p.get_height()),\n",
        "                               rotation=0, ha='center', va='bottom', xytext=(0, 10), textcoords='offset points')\n",
        "        \n",
        "plt.xlabel(None)\n",
        "plt.title('User Sentiment Analysis (%)', fontsize=20, weight='bold')\n",
        "plt.show()"
      ],
      "execution_count": 34,
      "outputs": [
        {
          "output_type": "display_data",
          "data": {
            "image/png": "[encoded data removed]",
            "text/plain": [
              "<Figure size 432x288 with 1 Axes>"
            ]
          },
          "metadata": {
            "needs_background": "light"
          }
        }
      ]
    },
    {
      "cell_type": "code",
      "metadata": {
        "colab": {
          "base_uri": "https://localhost:8080/",
          "height": 295
        },
        "id": "9IZLMxKmiImz",
        "outputId": "bdcdd5af-4a1d-49d8-9a6d-c0e5e2528b8e"
      },
      "source": [
        "def plot_progress_year(feature, title):\n",
        "    rating_progress = final_df.groupby(feature)['userId'].count()\n",
        "    \n",
        "    plt.plot(rating_progress, linestyle='-', marker='o', markersize=10)\n",
        "    plt.title(title, fontsize=16)\n",
        "    plt.xticks([1995, 1996, 1997, 1998, 1999, 2000, 2001, 2002, 2003, 2004, 2005, 2006, 2007, 2008, 2009, 2010, 2011, 2012, 2013, 2014, 2015], rotation=30)\n",
        "    plt.ylim([0, 30000])\n",
        "    plt.show()\n",
        "\n",
        "plot_progress_year('gave_rating_year', 'Progress rating count per year')"
      ],
      "execution_count": 35,
      "outputs": [
        {
          "output_type": "display_data",
          "data": {
            "image/png": "[encoded data removed]",
            "text/plain": [
              "<Figure size 432x288 with 1 Axes>"
            ]
          },
          "metadata": {
            "needs_background": "light"
          }
        }
      ]
    },
    {
      "cell_type": "code",
      "metadata": {
        "colab": {
          "base_uri": "https://localhost:8080/",
          "height": 281
        },
        "id": "4Jd7_4BTiRsi",
        "outputId": "0684a353-1600-432d-8a2e-2944d8dbda78"
      },
      "source": [
        "df_index = ['Jan', 'Feb', 'Mar', 'Apr', 'May', 'Jun', 'Jul', 'Aug', 'Sep', 'Oct', 'Nov', 'Dec']\n",
        "month_progress = final_df.groupby('gave_rating_month').userId.count().reindex(df_index)\n",
        "\n",
        "plt.plot(month_progress, linestyle='-', color='red', marker='o', markersize=10)\n",
        "plt.title('Progress rating count by month')\n",
        "plt.ylim([10000, 30000])\n",
        "plt.show()"
      ],
      "execution_count": 36,
      "outputs": [
        {
          "output_type": "display_data",
          "data": {
            "image/png": "[encoded data removed]",
            "text/plain": [
              "<Figure size 432x288 with 1 Axes>"
            ]
          },
          "metadata": {
            "needs_background": "light"
          }
        }
      ]
    },
    {
      "cell_type": "code",
      "metadata": {
        "colab": {
          "base_uri": "https://localhost:8080/",
          "height": 603
        },
        "id": "QDhOftUt9tue",
        "outputId": "bf31a14f-e431-4b4a-e208-f2c9d13678a1"
      },
      "source": [
        "df5=df5.dropna()\n",
        "df5['Year']=df5['Year'].astype('int64')\n",
        "plt.figure(figsize = (10,8))\n",
        "sns.heatmap(df5[['rating', 'Year', 'High_relevance_tagId','Romance', 'Romance', 'Fantasy', 'Animation',\n",
        "       'Action', 'Film-Noir', 'Adventure', 'Horror', 'IMAX', 'Musical', 'War',\n",
        "       'Drama', 'Comedy', 'Crime', 'Mystery', '(no genres listed)',\n",
        "       'Documentary', 'Western', 'Thriller', 'Children', 'Sci-Fi']].corr(), annot=False)"
      ],
      "execution_count": 37,
      "outputs": [
        {
          "output_type": "execute_result",
          "data": {
            "text/plain": [
              "<matplotlib.axes._subplots.AxesSubplot at 0x7f0ccd158c50>"
            ]
          },
          "metadata": {},
          "execution_count": 37
        },
        {
          "output_type": "display_data",
          "data": {
            "image/png": "[encoded data removed]",
            "text/plain": [
              "<Figure size 720x576 with 2 Axes>"
            ]
          },
          "metadata": {
            "needs_background": "light"
          }
        }
      ]
    },
    {
      "cell_type": "markdown",
      "metadata": {
        "id": "uba8RwGQQQf5"
      },
      "source": [
        "# Data Cleaning"
      ]
    },
    {
      "cell_type": "markdown",
      "metadata": {
        "id": "ECv9e1qdQtNM"
      },
      "source": [
        "Both datasets don't have missing or duplicated values\n",
        "\n",
        "Add new features using datetime for analysist & EDA"
      ]
    },
    {
      "cell_type": "code",
      "metadata": {
        "colab": {
          "base_uri": "https://localhost:8080/",
          "height": 423
        },
        "id": "0SfsdXoIQWnJ",
        "outputId": "1c2c5940-6941-4e2e-f952-f48067f11a0c"
      },
      "source": [
        "rating_df['gave_rating_year'] = rating_df['timestamp'].dt.year\n",
        "rating_df['gave_rating_month'] = rating_df['timestamp'].dt.month_name().str[:3]\n",
        "rating_df.drop('timestamp', axis=1, inplace=False)"
      ],
      "execution_count": 38,
      "outputs": [
        {
          "output_type": "execute_result",
          "data": {
            "text/html": [
              "<div>\n",
              "<style scoped>\n",
              "    .dataframe tbody tr th:only-of-type {\n",
              "        vertical-align: middle;\n",
              "    }\n",
              "\n",
              "    .dataframe tbody tr th {\n",
              "        vertical-align: top;\n",
              "    }\n",
              "\n",
              "    .dataframe thead th {\n",
              "        text-align: right;\n",
              "    }\n",
              "</style>\n",
              "<table border=\"1\" class=\"dataframe\">\n",
              "  <thead>\n",
              "    <tr style=\"text-align: right;\">\n",
              "      <th></th>\n",
              "      <th>userId</th>\n",
              "      <th>movieId</th>\n",
              "      <th>rating</th>\n",
              "      <th>gave_rating_year</th>\n",
              "      <th>gave_rating_month</th>\n",
              "      <th>sentiment_analysis</th>\n",
              "    </tr>\n",
              "  </thead>\n",
              "  <tbody>\n",
              "    <tr>\n",
              "      <th>0</th>\n",
              "      <td>1</td>\n",
              "      <td>2</td>\n",
              "      <td>3.5</td>\n",
              "      <td>2005</td>\n",
              "      <td>Feb</td>\n",
              "      <td>Neutral</td>\n",
              "    </tr>\n",
              "    <tr>\n",
              "      <th>1</th>\n",
              "      <td>1</td>\n",
              "      <td>29</td>\n",
              "      <td>3.5</td>\n",
              "      <td>2005</td>\n",
              "      <td>Feb</td>\n",
              "      <td>Neutral</td>\n",
              "    </tr>\n",
              "    <tr>\n",
              "      <th>2</th>\n",
              "      <td>1</td>\n",
              "      <td>32</td>\n",
              "      <td>3.5</td>\n",
              "      <td>2005</td>\n",
              "      <td>Feb</td>\n",
              "      <td>Neutral</td>\n",
              "    </tr>\n",
              "    <tr>\n",
              "      <th>3</th>\n",
              "      <td>1</td>\n",
              "      <td>47</td>\n",
              "      <td>3.5</td>\n",
              "      <td>2005</td>\n",
              "      <td>Feb</td>\n",
              "      <td>Neutral</td>\n",
              "    </tr>\n",
              "    <tr>\n",
              "      <th>4</th>\n",
              "      <td>1</td>\n",
              "      <td>50</td>\n",
              "      <td>3.5</td>\n",
              "      <td>2005</td>\n",
              "      <td>Feb</td>\n",
              "      <td>Neutral</td>\n",
              "    </tr>\n",
              "    <tr>\n",
              "      <th>...</th>\n",
              "      <td>...</td>\n",
              "      <td>...</td>\n",
              "      <td>...</td>\n",
              "      <td>...</td>\n",
              "      <td>...</td>\n",
              "      <td>...</td>\n",
              "    </tr>\n",
              "    <tr>\n",
              "      <th>231141</th>\n",
              "      <td>1596</td>\n",
              "      <td>552</td>\n",
              "      <td>2.0</td>\n",
              "      <td>2005</td>\n",
              "      <td>Apr</td>\n",
              "      <td>Negative</td>\n",
              "    </tr>\n",
              "    <tr>\n",
              "      <th>231142</th>\n",
              "      <td>1596</td>\n",
              "      <td>593</td>\n",
              "      <td>4.5</td>\n",
              "      <td>2005</td>\n",
              "      <td>Apr</td>\n",
              "      <td>Positive</td>\n",
              "    </tr>\n",
              "    <tr>\n",
              "      <th>231143</th>\n",
              "      <td>1596</td>\n",
              "      <td>653</td>\n",
              "      <td>3.0</td>\n",
              "      <td>2005</td>\n",
              "      <td>Apr</td>\n",
              "      <td>Neutral</td>\n",
              "    </tr>\n",
              "    <tr>\n",
              "      <th>231144</th>\n",
              "      <td>1596</td>\n",
              "      <td>784</td>\n",
              "      <td>2.0</td>\n",
              "      <td>2005</td>\n",
              "      <td>Apr</td>\n",
              "      <td>Negative</td>\n",
              "    </tr>\n",
              "    <tr>\n",
              "      <th>231145</th>\n",
              "      <td>1596</td>\n",
              "      <td>923</td>\n",
              "      <td>4.5</td>\n",
              "      <td>2005</td>\n",
              "      <td>Apr</td>\n",
              "      <td>Positive</td>\n",
              "    </tr>\n",
              "  </tbody>\n",
              "</table>\n",
              "<p>231146 rows × 6 columns</p>\n",
              "</div>"
            ],
            "text/plain": [
              "        userId  movieId  ...  gave_rating_month  sentiment_analysis\n",
              "0            1        2  ...                Feb             Neutral\n",
              "1            1       29  ...                Feb             Neutral\n",
              "2            1       32  ...                Feb             Neutral\n",
              "3            1       47  ...                Feb             Neutral\n",
              "4            1       50  ...                Feb             Neutral\n",
              "...        ...      ...  ...                ...                 ...\n",
              "231141    1596      552  ...                Apr            Negative\n",
              "231142    1596      593  ...                Apr            Positive\n",
              "231143    1596      653  ...                Apr             Neutral\n",
              "231144    1596      784  ...                Apr            Negative\n",
              "231145    1596      923  ...                Apr            Positive\n",
              "\n",
              "[231146 rows x 6 columns]"
            ]
          },
          "metadata": {},
          "execution_count": 38
        }
      ]
    },
    {
      "cell_type": "code",
      "metadata": {
        "id": "6CtErd6pQefe"
      },
      "source": [
        "rating_df['sentiment_analysis'] = rating_df['rating'].map({\n",
        "    0.5: 'Negative', 1.0: 'Negative', 1.5: 'Negative', 2.0: 'Negative', 2.5: 'Negative',\n",
        "    3.0: 'Neutral', 3.5: 'Neutral',\n",
        "    4.0: 'Positive', 4.5: 'Positive', 5.0: 'Positive'\n",
        "})"
      ],
      "execution_count": 39,
      "outputs": []
    },
    {
      "cell_type": "code",
      "metadata": {
        "colab": {
          "base_uri": "https://localhost:8080/",
          "height": 143
        },
        "id": "BiTlCZcMQggY",
        "outputId": "e786f5a1-6857-4393-ec1d-682145e0d6ee"
      },
      "source": [
        "rating_df.head(3)"
      ],
      "execution_count": 40,
      "outputs": [
        {
          "output_type": "execute_result",
          "data": {
            "text/html": [
              "<div>\n",
              "<style scoped>\n",
              "    .dataframe tbody tr th:only-of-type {\n",
              "        vertical-align: middle;\n",
              "    }\n",
              "\n",
              "    .dataframe tbody tr th {\n",
              "        vertical-align: top;\n",
              "    }\n",
              "\n",
              "    .dataframe thead th {\n",
              "        text-align: right;\n",
              "    }\n",
              "</style>\n",
              "<table border=\"1\" class=\"dataframe\">\n",
              "  <thead>\n",
              "    <tr style=\"text-align: right;\">\n",
              "      <th></th>\n",
              "      <th>userId</th>\n",
              "      <th>movieId</th>\n",
              "      <th>rating</th>\n",
              "      <th>timestamp</th>\n",
              "      <th>gave_rating_year</th>\n",
              "      <th>gave_rating_month</th>\n",
              "      <th>sentiment_analysis</th>\n",
              "    </tr>\n",
              "  </thead>\n",
              "  <tbody>\n",
              "    <tr>\n",
              "      <th>0</th>\n",
              "      <td>1</td>\n",
              "      <td>2</td>\n",
              "      <td>3.5</td>\n",
              "      <td>2005-02-04 23:53:00</td>\n",
              "      <td>2005</td>\n",
              "      <td>Feb</td>\n",
              "      <td>Neutral</td>\n",
              "    </tr>\n",
              "    <tr>\n",
              "      <th>1</th>\n",
              "      <td>1</td>\n",
              "      <td>29</td>\n",
              "      <td>3.5</td>\n",
              "      <td>2005-02-04 23:31:00</td>\n",
              "      <td>2005</td>\n",
              "      <td>Feb</td>\n",
              "      <td>Neutral</td>\n",
              "    </tr>\n",
              "    <tr>\n",
              "      <th>2</th>\n",
              "      <td>1</td>\n",
              "      <td>32</td>\n",
              "      <td>3.5</td>\n",
              "      <td>2005-02-04 23:33:00</td>\n",
              "      <td>2005</td>\n",
              "      <td>Feb</td>\n",
              "      <td>Neutral</td>\n",
              "    </tr>\n",
              "  </tbody>\n",
              "</table>\n",
              "</div>"
            ],
            "text/plain": [
              "   userId  movieId  ...  gave_rating_month sentiment_analysis\n",
              "0       1        2  ...                Feb            Neutral\n",
              "1       1       29  ...                Feb            Neutral\n",
              "2       1       32  ...                Feb            Neutral\n",
              "\n",
              "[3 rows x 7 columns]"
            ]
          },
          "metadata": {},
          "execution_count": 40
        }
      ]
    },
    {
      "cell_type": "code",
      "metadata": {
        "colab": {
          "base_uri": "https://localhost:8080/",
          "height": 143
        },
        "id": "EICNH6oVQilm",
        "outputId": "970f1a52-715c-4e61-be44-1572215e659e"
      },
      "source": [
        "movie_df.head(3)"
      ],
      "execution_count": 41,
      "outputs": [
        {
          "output_type": "execute_result",
          "data": {
            "text/html": [
              "<div>\n",
              "<style scoped>\n",
              "    .dataframe tbody tr th:only-of-type {\n",
              "        vertical-align: middle;\n",
              "    }\n",
              "\n",
              "    .dataframe tbody tr th {\n",
              "        vertical-align: top;\n",
              "    }\n",
              "\n",
              "    .dataframe thead th {\n",
              "        text-align: right;\n",
              "    }\n",
              "</style>\n",
              "<table border=\"1\" class=\"dataframe\">\n",
              "  <thead>\n",
              "    <tr style=\"text-align: right;\">\n",
              "      <th></th>\n",
              "      <th>movieId</th>\n",
              "      <th>title</th>\n",
              "      <th>genres</th>\n",
              "    </tr>\n",
              "  </thead>\n",
              "  <tbody>\n",
              "    <tr>\n",
              "      <th>0</th>\n",
              "      <td>1</td>\n",
              "      <td>Toy Story (1995)</td>\n",
              "      <td>Adventure|Animation|Children|Comedy|Fantasy</td>\n",
              "    </tr>\n",
              "    <tr>\n",
              "      <th>1</th>\n",
              "      <td>2</td>\n",
              "      <td>Jumanji (1995)</td>\n",
              "      <td>Adventure|Children|Fantasy</td>\n",
              "    </tr>\n",
              "    <tr>\n",
              "      <th>2</th>\n",
              "      <td>3</td>\n",
              "      <td>Grumpier Old Men (1995)</td>\n",
              "      <td>Comedy|Romance</td>\n",
              "    </tr>\n",
              "  </tbody>\n",
              "</table>\n",
              "</div>"
            ],
            "text/plain": [
              "   movieId  ...                                       genres\n",
              "0        1  ...  Adventure|Animation|Children|Comedy|Fantasy\n",
              "1        2  ...                   Adventure|Children|Fantasy\n",
              "2        3  ...                               Comedy|Romance\n",
              "\n",
              "[3 rows x 3 columns]"
            ]
          },
          "metadata": {},
          "execution_count": 41
        }
      ]
    },
    {
      "cell_type": "code",
      "metadata": {
        "id": "AaV59NZgQStQ"
      },
      "source": [
        "from sklearn import preprocessing\n",
        "label_encoder = preprocessing.LabelEncoder()\n",
        "rating_df['sentiment_analysis']= label_encoder.fit_transform(rating_df['sentiment_analysis'])"
      ],
      "execution_count": 42,
      "outputs": []
    },
    {
      "cell_type": "code",
      "metadata": {
        "colab": {
          "base_uri": "https://localhost:8080/",
          "height": 303
        },
        "id": "IjypVpwHQPbE",
        "outputId": "695eff9c-b810-4f30-e251-7a65684b0074"
      },
      "source": [
        "plt.rcParams[\"figure.figsize\"] = [17, 5]\n",
        "plt.rcParams[\"figure.autolayout\"] = True\n",
        "fig, axes = plt.subplots(1, 2)\n",
        "fig.suptitle(\"Category Counts\", fontsize=16,y=1.05)\n",
        "\n",
        "axes[0].set_title(\"Boxplot\")\n",
        "axes[1].set_title(\"Violinplot\")\n",
        "\n",
        "\n",
        "sns.boxplot(x=rating_df['sentiment_analysis'],ax=axes[0],color='red')\n",
        "sns.violinplot(x=rating_df['sentiment_analysis'],ax=axes[1],color='navy')"
      ],
      "execution_count": 43,
      "outputs": [
        {
          "output_type": "execute_result",
          "data": {
            "text/plain": [
              "<matplotlib.axes._subplots.AxesSubplot at 0x7f0ccc200510>"
            ]
          },
          "metadata": {},
          "execution_count": 43
        },
        {
          "output_type": "display_data",
          "data": {
            "image/png": "[encoded data removed]",
            "text/plain": [
              "<Figure size 1224x360 with 2 Axes>"
            ]
          },
          "metadata": {
            "needs_background": "light"
          }
        }
      ]
    },
    {
      "cell_type": "code",
      "metadata": {
        "id": "pyfzc8hcR_T5"
      },
      "source": [
        "rating_df = rating_df[rating_df['rating'] > 0 ]"
      ],
      "execution_count": 44,
      "outputs": []
    },
    {
      "cell_type": "code",
      "metadata": {
        "id": "NQvMwylFTZJG"
      },
      "source": [
        "rating_df = rating_df[rating_df['sentiment_analysis'] > 0]"
      ],
      "execution_count": 45,
      "outputs": []
    },
    {
      "cell_type": "code",
      "metadata": {
        "colab": {
          "base_uri": "https://localhost:8080/",
          "height": 49
        },
        "id": "DX5oUXyvSreD",
        "outputId": "9944a760-ca0a-46f1-9d20-f14fa85ee118"
      },
      "source": [
        "rating_df[rating_df['rating']  < 1 ]"
      ],
      "execution_count": 46,
      "outputs": [
        {
          "output_type": "execute_result",
          "data": {
            "text/html": [
              "<div>\n",
              "<style scoped>\n",
              "    .dataframe tbody tr th:only-of-type {\n",
              "        vertical-align: middle;\n",
              "    }\n",
              "\n",
              "    .dataframe tbody tr th {\n",
              "        vertical-align: top;\n",
              "    }\n",
              "\n",
              "    .dataframe thead th {\n",
              "        text-align: right;\n",
              "    }\n",
              "</style>\n",
              "<table border=\"1\" class=\"dataframe\">\n",
              "  <thead>\n",
              "    <tr style=\"text-align: right;\">\n",
              "      <th></th>\n",
              "      <th>userId</th>\n",
              "      <th>movieId</th>\n",
              "      <th>rating</th>\n",
              "      <th>timestamp</th>\n",
              "      <th>gave_rating_year</th>\n",
              "      <th>gave_rating_month</th>\n",
              "      <th>sentiment_analysis</th>\n",
              "    </tr>\n",
              "  </thead>\n",
              "  <tbody>\n",
              "  </tbody>\n",
              "</table>\n",
              "</div>"
            ],
            "text/plain": [
              "Empty DataFrame\n",
              "Columns: [userId, movieId, rating, timestamp, gave_rating_year, gave_rating_month, sentiment_analysis]\n",
              "Index: []"
            ]
          },
          "metadata": {},
          "execution_count": 46
        }
      ]
    },
    {
      "cell_type": "markdown",
      "metadata": {
        "id": "hL8Ft5La-8xI"
      },
      "source": [
        "# TF-IDF vectorizer using Cosine Similarity"
      ]
    },
    {
      "cell_type": "code",
      "metadata": {
        "id": "KsEAWaZanmb6"
      },
      "source": [
        "genres_str = movie_df['genres'].str.split('|').astype(str)"
      ],
      "execution_count": 47,
      "outputs": []
    },
    {
      "cell_type": "code",
      "metadata": {
        "colab": {
          "base_uri": "https://localhost:8080/"
        },
        "id": "_sclub2knnUl",
        "outputId": "429ef336-7683-4234-bddc-a928e6e1775f"
      },
      "source": [
        "from sklearn.feature_extraction.text import TfidfVectorizer\n",
        "tfidf = TfidfVectorizer(analyzer='word', ngram_range=(1, 2), min_df=0)\n",
        "tfidf_matrix = tfidf.fit_transform(genres_str)\n",
        "tfidf_matrix.shape"
      ],
      "execution_count": 48,
      "outputs": [
        {
          "output_type": "execute_result",
          "data": {
            "text/plain": [
              "(27262, 191)"
            ]
          },
          "metadata": {},
          "execution_count": 48
        }
      ]
    },
    {
      "cell_type": "code",
      "metadata": {
        "colab": {
          "base_uri": "https://localhost:8080/"
        },
        "id": "oDOrfgWE-B_W",
        "outputId": "24d93123-8b2e-4b17-f31a-3b4f8fb20f60"
      },
      "source": [
        "from sklearn.metrics.pairwise import linear_kernel\n",
        "cosine_sim = linear_kernel(tfidf_matrix, tfidf_matrix)\n",
        "cosine_sim[:4, :4]"
      ],
      "execution_count": 49,
      "outputs": [
        {
          "output_type": "execute_result",
          "data": {
            "text/plain": [
              "array([[1.        , 0.31699788, 0.06280943, 0.05664235],\n",
              "       [0.31699788, 1.        , 0.        , 0.        ],\n",
              "       [0.06280943, 0.        , 1.        , 0.36002001],\n",
              "       [0.05664235, 0.        , 0.36002001, 1.        ]])"
            ]
          },
          "metadata": {},
          "execution_count": 49
        }
      ]
    },
    {
      "cell_type": "code",
      "metadata": {
        "id": "o_o76SnF-LT3"
      },
      "source": [
        "indices = pd.Series(movie_df.index, index=movie_df['title'])\n",
        "\n",
        "# Recommender based on cosine similarity score of movie genres\n",
        "def genre_recommendations(title, similarity=False):\n",
        "    \n",
        "    if similarity == False:   \n",
        "        idx = indices[title]\n",
        "        sim_scores = list(enumerate(cosine_sim[idx]))\n",
        "        sim_scores = sorted(sim_scores, key=lambda x: x[1], reverse=True)\n",
        "        sim_scores = sim_scores[1:10] \n",
        "    \n",
        "        movie_indices = [i[0] for i in sim_scores]\n",
        "    \n",
        "        return pd.DataFrame({'Movie': movie_df['title'].iloc[movie_indices].values})\n",
        "    \n",
        "    \n",
        "    elif similarity == True:\n",
        "        \n",
        "        idx = indices[title]\n",
        "        sim_scores = list(enumerate(cosine_sim[idx]))\n",
        "        sim_scores = sorted(sim_scores, key=lambda x: x[1], reverse=True)\n",
        "        sim_scores = sim_scores[1:10]\n",
        "        \n",
        "        movie_indices = [i[0] for i in sim_scores]\n",
        "        similarity_ = [i[1] for i in sim_scores]\n",
        "        \n",
        "        return pd.DataFrame({'Movie': movie_df['title'].iloc[movie_indices].values,\n",
        "                             'Similarity': similarity_})"
      ],
      "execution_count": 50,
      "outputs": []
    },
    {
      "cell_type": "code",
      "metadata": {
        "colab": {
          "base_uri": "https://localhost:8080/"
        },
        "id": "hfQIrDOluaQJ",
        "outputId": "e1b79d65-1426-4872-ac52-b51a3ce1d219"
      },
      "source": [
        "print(indices)"
      ],
      "execution_count": 51,
      "outputs": [
        {
          "output_type": "stream",
          "name": "stdout",
          "text": [
            "title\n",
            "Toy Story (1995)                          0\n",
            "Jumanji (1995)                            1\n",
            "Grumpier Old Men (1995)                   2\n",
            "Waiting to Exhale (1995)                  3\n",
            "Father of the Bride Part II (1995)        4\n",
            "                                      ...  \n",
            "Kein Bund für's Leben (2007)          27273\n",
            "Feuer, Eis & Dosenbier (2002)         27274\n",
            "The Pirates (2014)                    27275\n",
            "Rentun Ruusu (2001)                   27276\n",
            "Innocence (2014)                      27277\n",
            "Length: 27262, dtype: int64\n"
          ]
        }
      ]
    },
    {
      "cell_type": "code",
      "metadata": {
        "colab": {
          "base_uri": "https://localhost:8080/",
          "height": 331
        },
        "id": "77Kw-_pV-Tfw",
        "outputId": "455826ed-907f-4a8e-876d-fbd38bcecfeb"
      },
      "source": [
        "genre_recommendations('Kung Fu Panda (2008)', similarity=True)"
      ],
      "execution_count": 52,
      "outputs": [
        {
          "output_type": "execute_result",
          "data": {
            "text/html": [
              "<div>\n",
              "<style scoped>\n",
              "    .dataframe tbody tr th:only-of-type {\n",
              "        vertical-align: middle;\n",
              "    }\n",
              "\n",
              "    .dataframe tbody tr th {\n",
              "        vertical-align: top;\n",
              "    }\n",
              "\n",
              "    .dataframe thead th {\n",
              "        text-align: right;\n",
              "    }\n",
              "</style>\n",
              "<table border=\"1\" class=\"dataframe\">\n",
              "  <thead>\n",
              "    <tr style=\"text-align: right;\">\n",
              "      <th></th>\n",
              "      <th>Movie</th>\n",
              "      <th>Similarity</th>\n",
              "    </tr>\n",
              "  </thead>\n",
              "  <tbody>\n",
              "    <tr>\n",
              "      <th>0</th>\n",
              "      <td>Heidi Fleiss: Hollywood Madam (1995)</td>\n",
              "      <td>1.0</td>\n",
              "    </tr>\n",
              "    <tr>\n",
              "      <th>1</th>\n",
              "      <td>Catwalk (1996)</td>\n",
              "      <td>1.0</td>\n",
              "    </tr>\n",
              "    <tr>\n",
              "      <th>2</th>\n",
              "      <td>Anne Frank Remembered (1995)</td>\n",
              "      <td>1.0</td>\n",
              "    </tr>\n",
              "    <tr>\n",
              "      <th>3</th>\n",
              "      <td>Jupiter's Wife (1994)</td>\n",
              "      <td>1.0</td>\n",
              "    </tr>\n",
              "    <tr>\n",
              "      <th>4</th>\n",
              "      <td>Sonic Outlaws (1995)</td>\n",
              "      <td>1.0</td>\n",
              "    </tr>\n",
              "    <tr>\n",
              "      <th>5</th>\n",
              "      <td>From the Journals of Jean Seberg (1995)</td>\n",
              "      <td>1.0</td>\n",
              "    </tr>\n",
              "    <tr>\n",
              "      <th>6</th>\n",
              "      <td>Man of the Year (1995)</td>\n",
              "      <td>1.0</td>\n",
              "    </tr>\n",
              "    <tr>\n",
              "      <th>7</th>\n",
              "      <td>Crumb (1994)</td>\n",
              "      <td>1.0</td>\n",
              "    </tr>\n",
              "    <tr>\n",
              "      <th>8</th>\n",
              "      <td>Show, The (1995)</td>\n",
              "      <td>1.0</td>\n",
              "    </tr>\n",
              "  </tbody>\n",
              "</table>\n",
              "</div>"
            ],
            "text/plain": [
              "                                     Movie  Similarity\n",
              "0     Heidi Fleiss: Hollywood Madam (1995)         1.0\n",
              "1                           Catwalk (1996)         1.0\n",
              "2             Anne Frank Remembered (1995)         1.0\n",
              "3                    Jupiter's Wife (1994)         1.0\n",
              "4                     Sonic Outlaws (1995)         1.0\n",
              "5  From the Journals of Jean Seberg (1995)         1.0\n",
              "6                   Man of the Year (1995)         1.0\n",
              "7                             Crumb (1994)         1.0\n",
              "8                         Show, The (1995)         1.0"
            ]
          },
          "metadata": {},
          "execution_count": 52
        }
      ]
    },
    {
      "cell_type": "code",
      "metadata": {
        "colab": {
          "base_uri": "https://localhost:8080/",
          "height": 331
        },
        "id": "0xozECI--YI_",
        "outputId": "f5d2d3c8-6d4c-41a9-cad3-af542c7d8c05"
      },
      "source": [
        "genre_recommendations(\"Indiana Jones and the Temple of Doom (1984)\", similarity=True)"
      ],
      "execution_count": 53,
      "outputs": [
        {
          "output_type": "execute_result",
          "data": {
            "text/html": [
              "<div>\n",
              "<style scoped>\n",
              "    .dataframe tbody tr th:only-of-type {\n",
              "        vertical-align: middle;\n",
              "    }\n",
              "\n",
              "    .dataframe tbody tr th {\n",
              "        vertical-align: top;\n",
              "    }\n",
              "\n",
              "    .dataframe thead th {\n",
              "        text-align: right;\n",
              "    }\n",
              "</style>\n",
              "<table border=\"1\" class=\"dataframe\">\n",
              "  <thead>\n",
              "    <tr style=\"text-align: right;\">\n",
              "      <th></th>\n",
              "      <th>Movie</th>\n",
              "      <th>Similarity</th>\n",
              "    </tr>\n",
              "  </thead>\n",
              "  <tbody>\n",
              "    <tr>\n",
              "      <th>0</th>\n",
              "      <td>Street Fighter (1994)</td>\n",
              "      <td>1.0</td>\n",
              "    </tr>\n",
              "    <tr>\n",
              "      <th>1</th>\n",
              "      <td>Dragonheart (1996)</td>\n",
              "      <td>1.0</td>\n",
              "    </tr>\n",
              "    <tr>\n",
              "      <th>2</th>\n",
              "      <td>Highlander (1986)</td>\n",
              "      <td>1.0</td>\n",
              "    </tr>\n",
              "    <tr>\n",
              "      <th>3</th>\n",
              "      <td>Conan the Barbarian (1982)</td>\n",
              "      <td>1.0</td>\n",
              "    </tr>\n",
              "    <tr>\n",
              "      <th>4</th>\n",
              "      <td>Mortal Kombat: Annihilation (1997)</td>\n",
              "      <td>1.0</td>\n",
              "    </tr>\n",
              "    <tr>\n",
              "      <th>5</th>\n",
              "      <td>Indiana Jones and the Temple of Doom (1984)</td>\n",
              "      <td>1.0</td>\n",
              "    </tr>\n",
              "    <tr>\n",
              "      <th>6</th>\n",
              "      <td>Willow (1988)</td>\n",
              "      <td>1.0</td>\n",
              "    </tr>\n",
              "    <tr>\n",
              "      <th>7</th>\n",
              "      <td>Red Sonja (1985)</td>\n",
              "      <td>1.0</td>\n",
              "    </tr>\n",
              "    <tr>\n",
              "      <th>8</th>\n",
              "      <td>13th Warrior, The (1999)</td>\n",
              "      <td>1.0</td>\n",
              "    </tr>\n",
              "  </tbody>\n",
              "</table>\n",
              "</div>"
            ],
            "text/plain": [
              "                                         Movie  Similarity\n",
              "0                        Street Fighter (1994)         1.0\n",
              "1                           Dragonheart (1996)         1.0\n",
              "2                            Highlander (1986)         1.0\n",
              "3                   Conan the Barbarian (1982)         1.0\n",
              "4           Mortal Kombat: Annihilation (1997)         1.0\n",
              "5  Indiana Jones and the Temple of Doom (1984)         1.0\n",
              "6                                Willow (1988)         1.0\n",
              "7                             Red Sonja (1985)         1.0\n",
              "8                     13th Warrior, The (1999)         1.0"
            ]
          },
          "metadata": {},
          "execution_count": 53
        }
      ]
    },
    {
      "cell_type": "code",
      "metadata": {
        "id": "SdgOke11ne-R"
      },
      "source": [
        "movie_df['movie_release_year'] = movie_df['title'].str.extract(r'(?:\\((\\d{4})\\))?\\s*$', expand=False)"
      ],
      "execution_count": 54,
      "outputs": []
    },
    {
      "cell_type": "code",
      "metadata": {
        "id": "KBHNBbCwnifZ"
      },
      "source": [
        "def genre_recommendations_2(title, most_recent=False):\n",
        "    \n",
        "    if most_recent == False:\n",
        "        \n",
        "        idx = indices[title]\n",
        "        sim_scores = list(enumerate(cosine_sim[idx]))\n",
        "        sim_scores = sorted(sim_scores, key=lambda x: x[1], reverse=True)\n",
        "        sim_scores = sim_scores[1:10] \n",
        "    \n",
        "        movie_indices = [i[0] for i in sim_scores]\n",
        "    \n",
        "        return pd.DataFrame({'Movie': movie_df['title'].iloc[movie_indices].values})\n",
        "    \n",
        "    \n",
        "    elif most_recent == True:\n",
        "        \n",
        "        idx = indices[title]\n",
        "        sim_scores = list(enumerate(cosine_sim[idx]))\n",
        "        sim_scores = sorted(sim_scores, key=lambda x: x[1], reverse=True)\n",
        "        sim_scores = sim_scores[1:14]\n",
        "        \n",
        "        movie_indices = [i[0] for i in sim_scores]\n",
        "        similarity_ = [i[1] for i in sim_scores]\n",
        "        most_recent_movie = pd.DataFrame({'Movie': movie_df['title'].iloc[movie_indices].values,\n",
        "                                          'release_year': movie_df['movie_release_year'].iloc[movie_indices].values,\n",
        "                                          'Similarity': similarity_})\n",
        "        \n",
        "        return most_recent_movie.sort_values('release_year', ascending=False).head(10)"
      ],
      "execution_count": 55,
      "outputs": []
    },
    {
      "cell_type": "code",
      "metadata": {
        "colab": {
          "base_uri": "https://localhost:8080/",
          "height": 363
        },
        "id": "8ywOxAOcnlQK",
        "outputId": "27318482-f47c-4cec-c95b-1d957b4f26d6"
      },
      "source": [
        "genre_recommendations_2('Green Hornet, The (2011)', most_recent=True)"
      ],
      "execution_count": 56,
      "outputs": [
        {
          "output_type": "execute_result",
          "data": {
            "text/html": [
              "<div>\n",
              "<style scoped>\n",
              "    .dataframe tbody tr th:only-of-type {\n",
              "        vertical-align: middle;\n",
              "    }\n",
              "\n",
              "    .dataframe tbody tr th {\n",
              "        vertical-align: top;\n",
              "    }\n",
              "\n",
              "    .dataframe thead th {\n",
              "        text-align: right;\n",
              "    }\n",
              "</style>\n",
              "<table border=\"1\" class=\"dataframe\">\n",
              "  <thead>\n",
              "    <tr style=\"text-align: right;\">\n",
              "      <th></th>\n",
              "      <th>Movie</th>\n",
              "      <th>release_year</th>\n",
              "      <th>Similarity</th>\n",
              "    </tr>\n",
              "  </thead>\n",
              "  <tbody>\n",
              "    <tr>\n",
              "      <th>10</th>\n",
              "      <td>The White Haired Witch of Lunar Kingdom (2014)</td>\n",
              "      <td>2014</td>\n",
              "      <td>0.636952</td>\n",
              "    </tr>\n",
              "    <tr>\n",
              "      <th>11</th>\n",
              "      <td>Jack the Giant Killer (2013)</td>\n",
              "      <td>2013</td>\n",
              "      <td>0.636952</td>\n",
              "    </tr>\n",
              "    <tr>\n",
              "      <th>0</th>\n",
              "      <td>BloodRayne: Deliverance (BloodRayne II: Delive...</td>\n",
              "      <td>2007</td>\n",
              "      <td>1.000000</td>\n",
              "    </tr>\n",
              "    <tr>\n",
              "      <th>5</th>\n",
              "      <td>BloodRayne (2005)</td>\n",
              "      <td>2005</td>\n",
              "      <td>0.636952</td>\n",
              "    </tr>\n",
              "    <tr>\n",
              "      <th>9</th>\n",
              "      <td>Ashura (2005)</td>\n",
              "      <td>2005</td>\n",
              "      <td>0.636952</td>\n",
              "    </tr>\n",
              "    <tr>\n",
              "      <th>2</th>\n",
              "      <td>Purgatory (1999)</td>\n",
              "      <td>1999</td>\n",
              "      <td>0.823659</td>\n",
              "    </tr>\n",
              "    <tr>\n",
              "      <th>8</th>\n",
              "      <td>Rebirth of Mothra II (1997)</td>\n",
              "      <td>1997</td>\n",
              "      <td>0.636952</td>\n",
              "    </tr>\n",
              "    <tr>\n",
              "      <th>12</th>\n",
              "      <td>Tall Tale (1995)</td>\n",
              "      <td>1995</td>\n",
              "      <td>0.615392</td>\n",
              "    </tr>\n",
              "    <tr>\n",
              "      <th>3</th>\n",
              "      <td>Highlander III: The Sorcerer (a.k.a. Highlande...</td>\n",
              "      <td>1994</td>\n",
              "      <td>0.636952</td>\n",
              "    </tr>\n",
              "    <tr>\n",
              "      <th>7</th>\n",
              "      <td>Evil Cult, The (Lord of the Wu Tang) (Yi tian ...</td>\n",
              "      <td>1993</td>\n",
              "      <td>0.636952</td>\n",
              "    </tr>\n",
              "  </tbody>\n",
              "</table>\n",
              "</div>"
            ],
            "text/plain": [
              "                                                Movie release_year  Similarity\n",
              "10     The White Haired Witch of Lunar Kingdom (2014)         2014    0.636952\n",
              "11                       Jack the Giant Killer (2013)         2013    0.636952\n",
              "0   BloodRayne: Deliverance (BloodRayne II: Delive...         2007    1.000000\n",
              "5                                   BloodRayne (2005)         2005    0.636952\n",
              "9                                       Ashura (2005)         2005    0.636952\n",
              "2                                    Purgatory (1999)         1999    0.823659\n",
              "8                         Rebirth of Mothra II (1997)         1997    0.636952\n",
              "12                                   Tall Tale (1995)         1995    0.615392\n",
              "3   Highlander III: The Sorcerer (a.k.a. Highlande...         1994    0.636952\n",
              "7   Evil Cult, The (Lord of the Wu Tang) (Yi tian ...         1993    0.636952"
            ]
          },
          "metadata": {},
          "execution_count": 56
        }
      ]
    },
    {
      "cell_type": "code",
      "metadata": {
        "id": "SQ4lXUbJnoqB"
      },
      "source": [
        "rating_mean = final_df.groupby('title')['rating'].mean().reset_index()\n",
        "total_rating = final_df.groupby('title')['rating'].count().reset_index()\n",
        "\n",
        "total_rating_mean = pd.merge(rating_mean, total_rating, on='title', how='inner')\n",
        "total_rating_mean.rename(columns={'rating_x': 'rating_mean',\n",
        "                                  'rating_y': 'total_rating'},\n",
        "                                  inplace=True)\n",
        "\n",
        "final_df2 = movie_df.merge(total_rating_mean, on='title', how='left').dropna()"
      ],
      "execution_count": 57,
      "outputs": []
    },
    {
      "cell_type": "code",
      "metadata": {
        "id": "uC8BsiBunsDh"
      },
      "source": [
        "def genre_recommendations_3(title, best_rating=False):\n",
        "    \n",
        "    if best_rating == False:  # recommendation based on total rating\n",
        "        \n",
        "        idx = indices[title]\n",
        "        sim_scores = list(enumerate(cosine_sim[idx]))\n",
        "        sim_scores = sorted(sim_scores, key=lambda x: x[1], reverse=True)\n",
        "        sim_scores = sim_scores[1:14]\n",
        "    \n",
        "        movie_indices = [i[0] for i in sim_scores]\n",
        "        \n",
        "        most_rating_movie = pd.DataFrame({'Movie': final_df2['title'].iloc[movie_indices].values,\n",
        "                                          'total_rating': final_df2['total_rating'].iloc[movie_indices].values})\n",
        "    \n",
        "        return most_rating_movie.sort_values('total_rating', ascending=False).head(10)\n",
        "    \n",
        "    \n",
        "    elif best_rating == True:  # sort by best rating\n",
        "        \n",
        "        idx = indices[title]\n",
        "        sim_scores = list(enumerate(cosine_sim[idx]))\n",
        "        sim_scores = sorted(sim_scores, key=lambda x: x[1], reverse=True)\n",
        "        sim_scores = sim_scores[1:14]\n",
        "        \n",
        "        movie_indices = [i[0] for i in sim_scores]\n",
        "        \n",
        "        most_recent_movie = pd.DataFrame({'Movie': final_df2['title'].iloc[movie_indices].values,\n",
        "                                          'rating_mean': final_df2['rating_mean'].iloc[movie_indices].values})\n",
        "        \n",
        "        return most_recent_movie.sort_values('rating_mean', ascending=False).head(10)"
      ],
      "execution_count": 58,
      "outputs": []
    },
    {
      "cell_type": "code",
      "metadata": {
        "colab": {
          "base_uri": "https://localhost:8080/",
          "height": 363
        },
        "id": "5kZ-K0Vc-7lg",
        "outputId": "0fefb834-13b1-466c-e2e8-971d14ebdb75"
      },
      "source": [
        "genre_recommendations_3('Taken (2008)', best_rating=True)"
      ],
      "execution_count": 59,
      "outputs": [
        {
          "output_type": "execute_result",
          "data": {
            "text/html": [
              "<div>\n",
              "<style scoped>\n",
              "    .dataframe tbody tr th:only-of-type {\n",
              "        vertical-align: middle;\n",
              "    }\n",
              "\n",
              "    .dataframe tbody tr th {\n",
              "        vertical-align: top;\n",
              "    }\n",
              "\n",
              "    .dataframe thead th {\n",
              "        text-align: right;\n",
              "    }\n",
              "</style>\n",
              "<table border=\"1\" class=\"dataframe\">\n",
              "  <thead>\n",
              "    <tr style=\"text-align: right;\">\n",
              "      <th></th>\n",
              "      <th>Movie</th>\n",
              "      <th>rating_mean</th>\n",
              "    </tr>\n",
              "  </thead>\n",
              "  <tbody>\n",
              "    <tr>\n",
              "      <th>2</th>\n",
              "      <td>Richard III (1995)</td>\n",
              "      <td>3.720339</td>\n",
              "    </tr>\n",
              "    <tr>\n",
              "      <th>0</th>\n",
              "      <td>Othello (1995)</td>\n",
              "      <td>3.693548</td>\n",
              "    </tr>\n",
              "    <tr>\n",
              "      <th>7</th>\n",
              "      <td>Friday (1995)</td>\n",
              "      <td>3.424528</td>\n",
              "    </tr>\n",
              "    <tr>\n",
              "      <th>1</th>\n",
              "      <td>Dangerous Minds (1995)</td>\n",
              "      <td>3.345000</td>\n",
              "    </tr>\n",
              "    <tr>\n",
              "      <th>4</th>\n",
              "      <td>Home for the Holidays (1995)</td>\n",
              "      <td>3.250000</td>\n",
              "    </tr>\n",
              "    <tr>\n",
              "      <th>5</th>\n",
              "      <td>Confessional, The (Confessionnal, Le) (1995)</td>\n",
              "      <td>3.000000</td>\n",
              "    </tr>\n",
              "    <tr>\n",
              "      <th>11</th>\n",
              "      <td>Frankie Starlight (1995)</td>\n",
              "      <td>3.000000</td>\n",
              "    </tr>\n",
              "    <tr>\n",
              "      <th>12</th>\n",
              "      <td>Down Periscope (1996)</td>\n",
              "      <td>2.913793</td>\n",
              "    </tr>\n",
              "    <tr>\n",
              "      <th>6</th>\n",
              "      <td>Two if by Sea (1996)</td>\n",
              "      <td>2.850000</td>\n",
              "    </tr>\n",
              "    <tr>\n",
              "      <th>3</th>\n",
              "      <td>Mortal Kombat (1995)</td>\n",
              "      <td>2.626050</td>\n",
              "    </tr>\n",
              "  </tbody>\n",
              "</table>\n",
              "</div>"
            ],
            "text/plain": [
              "                                           Movie  rating_mean\n",
              "2                             Richard III (1995)     3.720339\n",
              "0                                 Othello (1995)     3.693548\n",
              "7                                  Friday (1995)     3.424528\n",
              "1                         Dangerous Minds (1995)     3.345000\n",
              "4                   Home for the Holidays (1995)     3.250000\n",
              "5   Confessional, The (Confessionnal, Le) (1995)     3.000000\n",
              "11                      Frankie Starlight (1995)     3.000000\n",
              "12                         Down Periscope (1996)     2.913793\n",
              "6                           Two if by Sea (1996)     2.850000\n",
              "3                           Mortal Kombat (1995)     2.626050"
            ]
          },
          "metadata": {},
          "execution_count": 59
        }
      ]
    },
    {
      "cell_type": "markdown",
      "metadata": {
        "id": "Uj10KQ9LFG9w"
      },
      "source": [
        "#Corr Matrix Based Recommender"
      ]
    },
    {
      "cell_type": "code",
      "metadata": {
        "colab": {
          "base_uri": "https://localhost:8080/"
        },
        "id": "sAWU8dtTFP63",
        "outputId": "a714adbb-f0a3-489d-f75d-66850aa17642"
      },
      "source": [
        "df=movie_df.merge(rating_df,\"left\",on=\"movieId\")\n",
        "rating_count=pd.DataFrame(df[\"title\"].value_counts())\n",
        "exc_movies=rating_count[rating_count[\"title\"]<=8000].index\n",
        "common_movies=df[df[\"title\"].isin(exc_movies)]\n",
        "user_movie_df=common_movies.pivot_table(index=\"userId\",columns=\"title\",values=\"rating\")\n",
        "\n",
        "def item_based_recommender(movie_name,user_movie_df):\n",
        "    movie_name_df=user_movie_df[movie_name]\n",
        "    return list(user_movie_df.corrwith(movie_name_df).sort_values(ascending=False).head(6).index)\n",
        "\n",
        "random_user = 1001\n",
        "\n",
        "movie_code=rating_df[rating_df[\"userId\"]==random_user].sort_values(\"timestamp\", ascending=False).\\\n",
        "sort_values(\"rating\", ascending=False).iloc[0,1]\n",
        "print('Movie Code ',movie_code)\n",
        "\n",
        "movie_name=\"\"\n",
        "for i in (movie_df[movie_df[\"movieId\"]==movie_code][\"title\"]):\n",
        "    movie_name+=i\n",
        "\n",
        "print('Movie Name ',movie_name)\n",
        "print('')\n",
        "item_based_recommender(movie_name,user_movie_df)"
      ],
      "execution_count": 60,
      "outputs": [
        {
          "output_type": "stream",
          "name": "stdout",
          "text": [
            "Movie Code  1033\n",
            "Movie Name  Fox and the Hound, The (1981)\n",
            "\n"
          ]
        },
        {
          "output_type": "execute_result",
          "data": {
            "text/plain": [
              "['John Q (2002)',\n",
              " 'Fall, The (2006)',\n",
              " 'Mermaids (1990)',\n",
              " 'Marked for Death (1990)',\n",
              " 'Analyze That (2002)',\n",
              " 'Man Who Would Be King, The (1975)']"
            ]
          },
          "metadata": {},
          "execution_count": 60
        }
      ]
    },
    {
      "cell_type": "markdown",
      "metadata": {
        "id": "tKL4DYw0g5zV"
      },
      "source": [
        "# KNN"
      ]
    },
    {
      "cell_type": "code",
      "metadata": {
        "id": "W4WPDkrWRI_H"
      },
      "source": [
        "movie = movie_df.loc[:,{\"movieId\",\"title\"}]\n",
        "rating = rating_df.loc[:,{\"userId\",\"movieId\",\"rating\"}]"
      ],
      "execution_count": 61,
      "outputs": []
    },
    {
      "cell_type": "code",
      "metadata": {
        "colab": {
          "base_uri": "https://localhost:8080/",
          "height": 530
        },
        "id": "Em8kcfS-RMNu",
        "outputId": "28cb224c-48f1-49ff-ae2d-d936e31000c9"
      },
      "source": [
        "data = pd.merge(movie,rating)\n",
        "data = data.iloc[:1000000,:]\n",
        "user_movie_table = data.pivot_table(index = [\"title\"],columns = [\"userId\"],values = \"rating\").fillna(0)\n",
        "user_movie_table.head(5)"
      ],
      "execution_count": 62,
      "outputs": [
        {
          "output_type": "execute_result",
          "data": {
            "text/html": [
              "<div>\n",
              "<style scoped>\n",
              "    .dataframe tbody tr th:only-of-type {\n",
              "        vertical-align: middle;\n",
              "    }\n",
              "\n",
              "    .dataframe tbody tr th {\n",
              "        vertical-align: top;\n",
              "    }\n",
              "\n",
              "    .dataframe thead th {\n",
              "        text-align: right;\n",
              "    }\n",
              "</style>\n",
              "<table border=\"1\" class=\"dataframe\">\n",
              "  <thead>\n",
              "    <tr style=\"text-align: right;\">\n",
              "      <th>userId</th>\n",
              "      <th>1</th>\n",
              "      <th>2</th>\n",
              "      <th>3</th>\n",
              "      <th>4</th>\n",
              "      <th>5</th>\n",
              "      <th>6</th>\n",
              "      <th>7</th>\n",
              "      <th>8</th>\n",
              "      <th>9</th>\n",
              "      <th>10</th>\n",
              "      <th>11</th>\n",
              "      <th>12</th>\n",
              "      <th>13</th>\n",
              "      <th>14</th>\n",
              "      <th>15</th>\n",
              "      <th>16</th>\n",
              "      <th>17</th>\n",
              "      <th>18</th>\n",
              "      <th>19</th>\n",
              "      <th>20</th>\n",
              "      <th>21</th>\n",
              "      <th>22</th>\n",
              "      <th>23</th>\n",
              "      <th>24</th>\n",
              "      <th>25</th>\n",
              "      <th>26</th>\n",
              "      <th>27</th>\n",
              "      <th>28</th>\n",
              "      <th>29</th>\n",
              "      <th>30</th>\n",
              "      <th>31</th>\n",
              "      <th>32</th>\n",
              "      <th>33</th>\n",
              "      <th>34</th>\n",
              "      <th>35</th>\n",
              "      <th>36</th>\n",
              "      <th>37</th>\n",
              "      <th>38</th>\n",
              "      <th>39</th>\n",
              "      <th>40</th>\n",
              "      <th>...</th>\n",
              "      <th>1557</th>\n",
              "      <th>1558</th>\n",
              "      <th>1559</th>\n",
              "      <th>1560</th>\n",
              "      <th>1561</th>\n",
              "      <th>1562</th>\n",
              "      <th>1563</th>\n",
              "      <th>1564</th>\n",
              "      <th>1565</th>\n",
              "      <th>1566</th>\n",
              "      <th>1567</th>\n",
              "      <th>1568</th>\n",
              "      <th>1569</th>\n",
              "      <th>1570</th>\n",
              "      <th>1571</th>\n",
              "      <th>1572</th>\n",
              "      <th>1573</th>\n",
              "      <th>1574</th>\n",
              "      <th>1575</th>\n",
              "      <th>1576</th>\n",
              "      <th>1577</th>\n",
              "      <th>1578</th>\n",
              "      <th>1579</th>\n",
              "      <th>1580</th>\n",
              "      <th>1581</th>\n",
              "      <th>1582</th>\n",
              "      <th>1583</th>\n",
              "      <th>1584</th>\n",
              "      <th>1585</th>\n",
              "      <th>1586</th>\n",
              "      <th>1587</th>\n",
              "      <th>1588</th>\n",
              "      <th>1589</th>\n",
              "      <th>1590</th>\n",
              "      <th>1591</th>\n",
              "      <th>1592</th>\n",
              "      <th>1593</th>\n",
              "      <th>1594</th>\n",
              "      <th>1595</th>\n",
              "      <th>1596</th>\n",
              "    </tr>\n",
              "    <tr>\n",
              "      <th>title</th>\n",
              "      <th></th>\n",
              "      <th></th>\n",
              "      <th></th>\n",
              "      <th></th>\n",
              "      <th></th>\n",
              "      <th></th>\n",
              "      <th></th>\n",
              "      <th></th>\n",
              "      <th></th>\n",
              "      <th></th>\n",
              "      <th></th>\n",
              "      <th></th>\n",
              "      <th></th>\n",
              "      <th></th>\n",
              "      <th></th>\n",
              "      <th></th>\n",
              "      <th></th>\n",
              "      <th></th>\n",
              "      <th></th>\n",
              "      <th></th>\n",
              "      <th></th>\n",
              "      <th></th>\n",
              "      <th></th>\n",
              "      <th></th>\n",
              "      <th></th>\n",
              "      <th></th>\n",
              "      <th></th>\n",
              "      <th></th>\n",
              "      <th></th>\n",
              "      <th></th>\n",
              "      <th></th>\n",
              "      <th></th>\n",
              "      <th></th>\n",
              "      <th></th>\n",
              "      <th></th>\n",
              "      <th></th>\n",
              "      <th></th>\n",
              "      <th></th>\n",
              "      <th></th>\n",
              "      <th></th>\n",
              "      <th></th>\n",
              "      <th></th>\n",
              "      <th></th>\n",
              "      <th></th>\n",
              "      <th></th>\n",
              "      <th></th>\n",
              "      <th></th>\n",
              "      <th></th>\n",
              "      <th></th>\n",
              "      <th></th>\n",
              "      <th></th>\n",
              "      <th></th>\n",
              "      <th></th>\n",
              "      <th></th>\n",
              "      <th></th>\n",
              "      <th></th>\n",
              "      <th></th>\n",
              "      <th></th>\n",
              "      <th></th>\n",
              "      <th></th>\n",
              "      <th></th>\n",
              "      <th></th>\n",
              "      <th></th>\n",
              "      <th></th>\n",
              "      <th></th>\n",
              "      <th></th>\n",
              "      <th></th>\n",
              "      <th></th>\n",
              "      <th></th>\n",
              "      <th></th>\n",
              "      <th></th>\n",
              "      <th></th>\n",
              "      <th></th>\n",
              "      <th></th>\n",
              "      <th></th>\n",
              "      <th></th>\n",
              "      <th></th>\n",
              "      <th></th>\n",
              "      <th></th>\n",
              "      <th></th>\n",
              "      <th></th>\n",
              "    </tr>\n",
              "  </thead>\n",
              "  <tbody>\n",
              "    <tr>\n",
              "      <th>'Hellboy': The Seeds of Creation (2004)</th>\n",
              "      <td>0.0</td>\n",
              "      <td>0.0</td>\n",
              "      <td>0.0</td>\n",
              "      <td>0.0</td>\n",
              "      <td>0.0</td>\n",
              "      <td>0.0</td>\n",
              "      <td>0.0</td>\n",
              "      <td>0.0</td>\n",
              "      <td>0.0</td>\n",
              "      <td>0.0</td>\n",
              "      <td>0.0</td>\n",
              "      <td>0.0</td>\n",
              "      <td>0.0</td>\n",
              "      <td>0.0</td>\n",
              "      <td>0.0</td>\n",
              "      <td>0.0</td>\n",
              "      <td>0.0</td>\n",
              "      <td>0.0</td>\n",
              "      <td>0.0</td>\n",
              "      <td>0.0</td>\n",
              "      <td>0.0</td>\n",
              "      <td>0.0</td>\n",
              "      <td>0.0</td>\n",
              "      <td>0.0</td>\n",
              "      <td>0.0</td>\n",
              "      <td>0.0</td>\n",
              "      <td>0.0</td>\n",
              "      <td>0.0</td>\n",
              "      <td>0.0</td>\n",
              "      <td>0.0</td>\n",
              "      <td>0.0</td>\n",
              "      <td>0.0</td>\n",
              "      <td>0.0</td>\n",
              "      <td>0.0</td>\n",
              "      <td>0.0</td>\n",
              "      <td>0.0</td>\n",
              "      <td>0.0</td>\n",
              "      <td>0.0</td>\n",
              "      <td>0.0</td>\n",
              "      <td>0.0</td>\n",
              "      <td>...</td>\n",
              "      <td>0.0</td>\n",
              "      <td>0.0</td>\n",
              "      <td>0.0</td>\n",
              "      <td>0.0</td>\n",
              "      <td>0.0</td>\n",
              "      <td>0.0</td>\n",
              "      <td>0.0</td>\n",
              "      <td>0.0</td>\n",
              "      <td>0.0</td>\n",
              "      <td>0.0</td>\n",
              "      <td>0.0</td>\n",
              "      <td>0.0</td>\n",
              "      <td>0.0</td>\n",
              "      <td>0.0</td>\n",
              "      <td>0.0</td>\n",
              "      <td>0.0</td>\n",
              "      <td>0.0</td>\n",
              "      <td>0.0</td>\n",
              "      <td>0.0</td>\n",
              "      <td>0.0</td>\n",
              "      <td>0.0</td>\n",
              "      <td>0.0</td>\n",
              "      <td>0.0</td>\n",
              "      <td>0.0</td>\n",
              "      <td>0.0</td>\n",
              "      <td>0.0</td>\n",
              "      <td>0.0</td>\n",
              "      <td>0.0</td>\n",
              "      <td>0.0</td>\n",
              "      <td>0.0</td>\n",
              "      <td>0.0</td>\n",
              "      <td>0.0</td>\n",
              "      <td>0.0</td>\n",
              "      <td>0.0</td>\n",
              "      <td>0.0</td>\n",
              "      <td>0.0</td>\n",
              "      <td>0.0</td>\n",
              "      <td>0.0</td>\n",
              "      <td>0.0</td>\n",
              "      <td>0.0</td>\n",
              "    </tr>\n",
              "    <tr>\n",
              "      <th>'Neath the Arizona Skies (1934)</th>\n",
              "      <td>0.0</td>\n",
              "      <td>0.0</td>\n",
              "      <td>0.0</td>\n",
              "      <td>0.0</td>\n",
              "      <td>0.0</td>\n",
              "      <td>0.0</td>\n",
              "      <td>0.0</td>\n",
              "      <td>0.0</td>\n",
              "      <td>0.0</td>\n",
              "      <td>0.0</td>\n",
              "      <td>0.0</td>\n",
              "      <td>0.0</td>\n",
              "      <td>0.0</td>\n",
              "      <td>0.0</td>\n",
              "      <td>0.0</td>\n",
              "      <td>0.0</td>\n",
              "      <td>0.0</td>\n",
              "      <td>0.0</td>\n",
              "      <td>0.0</td>\n",
              "      <td>0.0</td>\n",
              "      <td>0.0</td>\n",
              "      <td>0.0</td>\n",
              "      <td>0.0</td>\n",
              "      <td>0.0</td>\n",
              "      <td>0.0</td>\n",
              "      <td>0.0</td>\n",
              "      <td>0.0</td>\n",
              "      <td>0.0</td>\n",
              "      <td>0.0</td>\n",
              "      <td>0.0</td>\n",
              "      <td>0.0</td>\n",
              "      <td>0.0</td>\n",
              "      <td>0.0</td>\n",
              "      <td>0.0</td>\n",
              "      <td>0.0</td>\n",
              "      <td>0.0</td>\n",
              "      <td>0.0</td>\n",
              "      <td>0.0</td>\n",
              "      <td>0.0</td>\n",
              "      <td>0.0</td>\n",
              "      <td>...</td>\n",
              "      <td>0.0</td>\n",
              "      <td>0.0</td>\n",
              "      <td>0.0</td>\n",
              "      <td>0.0</td>\n",
              "      <td>0.0</td>\n",
              "      <td>0.0</td>\n",
              "      <td>0.0</td>\n",
              "      <td>0.0</td>\n",
              "      <td>0.0</td>\n",
              "      <td>0.0</td>\n",
              "      <td>0.0</td>\n",
              "      <td>0.0</td>\n",
              "      <td>0.0</td>\n",
              "      <td>0.0</td>\n",
              "      <td>0.0</td>\n",
              "      <td>0.0</td>\n",
              "      <td>0.0</td>\n",
              "      <td>0.0</td>\n",
              "      <td>0.0</td>\n",
              "      <td>0.0</td>\n",
              "      <td>0.0</td>\n",
              "      <td>0.0</td>\n",
              "      <td>0.0</td>\n",
              "      <td>0.0</td>\n",
              "      <td>0.0</td>\n",
              "      <td>0.0</td>\n",
              "      <td>0.0</td>\n",
              "      <td>0.0</td>\n",
              "      <td>0.0</td>\n",
              "      <td>0.0</td>\n",
              "      <td>0.0</td>\n",
              "      <td>0.0</td>\n",
              "      <td>0.0</td>\n",
              "      <td>0.0</td>\n",
              "      <td>0.0</td>\n",
              "      <td>0.0</td>\n",
              "      <td>0.0</td>\n",
              "      <td>0.0</td>\n",
              "      <td>0.0</td>\n",
              "      <td>0.0</td>\n",
              "    </tr>\n",
              "    <tr>\n",
              "      <th>'Round Midnight (1986)</th>\n",
              "      <td>0.0</td>\n",
              "      <td>0.0</td>\n",
              "      <td>0.0</td>\n",
              "      <td>0.0</td>\n",
              "      <td>0.0</td>\n",
              "      <td>0.0</td>\n",
              "      <td>0.0</td>\n",
              "      <td>0.0</td>\n",
              "      <td>0.0</td>\n",
              "      <td>0.0</td>\n",
              "      <td>0.0</td>\n",
              "      <td>0.0</td>\n",
              "      <td>0.0</td>\n",
              "      <td>0.0</td>\n",
              "      <td>0.0</td>\n",
              "      <td>0.0</td>\n",
              "      <td>0.0</td>\n",
              "      <td>0.0</td>\n",
              "      <td>0.0</td>\n",
              "      <td>0.0</td>\n",
              "      <td>0.0</td>\n",
              "      <td>0.0</td>\n",
              "      <td>0.0</td>\n",
              "      <td>0.0</td>\n",
              "      <td>0.0</td>\n",
              "      <td>0.0</td>\n",
              "      <td>0.0</td>\n",
              "      <td>0.0</td>\n",
              "      <td>0.0</td>\n",
              "      <td>0.0</td>\n",
              "      <td>0.0</td>\n",
              "      <td>0.0</td>\n",
              "      <td>0.0</td>\n",
              "      <td>0.0</td>\n",
              "      <td>0.0</td>\n",
              "      <td>0.0</td>\n",
              "      <td>0.0</td>\n",
              "      <td>0.0</td>\n",
              "      <td>0.0</td>\n",
              "      <td>0.0</td>\n",
              "      <td>...</td>\n",
              "      <td>0.0</td>\n",
              "      <td>0.0</td>\n",
              "      <td>0.0</td>\n",
              "      <td>0.0</td>\n",
              "      <td>0.0</td>\n",
              "      <td>0.0</td>\n",
              "      <td>0.0</td>\n",
              "      <td>0.0</td>\n",
              "      <td>0.0</td>\n",
              "      <td>0.0</td>\n",
              "      <td>0.0</td>\n",
              "      <td>0.0</td>\n",
              "      <td>0.0</td>\n",
              "      <td>0.0</td>\n",
              "      <td>0.0</td>\n",
              "      <td>0.0</td>\n",
              "      <td>0.0</td>\n",
              "      <td>0.0</td>\n",
              "      <td>0.0</td>\n",
              "      <td>0.0</td>\n",
              "      <td>0.0</td>\n",
              "      <td>0.0</td>\n",
              "      <td>0.0</td>\n",
              "      <td>0.0</td>\n",
              "      <td>0.0</td>\n",
              "      <td>0.0</td>\n",
              "      <td>0.0</td>\n",
              "      <td>0.0</td>\n",
              "      <td>0.0</td>\n",
              "      <td>0.0</td>\n",
              "      <td>0.0</td>\n",
              "      <td>0.0</td>\n",
              "      <td>0.0</td>\n",
              "      <td>0.0</td>\n",
              "      <td>0.0</td>\n",
              "      <td>0.0</td>\n",
              "      <td>0.0</td>\n",
              "      <td>0.0</td>\n",
              "      <td>0.0</td>\n",
              "      <td>0.0</td>\n",
              "    </tr>\n",
              "    <tr>\n",
              "      <th>'Salem's Lot (2004)</th>\n",
              "      <td>0.0</td>\n",
              "      <td>0.0</td>\n",
              "      <td>0.0</td>\n",
              "      <td>0.0</td>\n",
              "      <td>0.0</td>\n",
              "      <td>0.0</td>\n",
              "      <td>0.0</td>\n",
              "      <td>0.0</td>\n",
              "      <td>0.0</td>\n",
              "      <td>0.0</td>\n",
              "      <td>0.0</td>\n",
              "      <td>0.0</td>\n",
              "      <td>0.0</td>\n",
              "      <td>0.0</td>\n",
              "      <td>0.0</td>\n",
              "      <td>0.0</td>\n",
              "      <td>0.0</td>\n",
              "      <td>0.0</td>\n",
              "      <td>0.0</td>\n",
              "      <td>0.0</td>\n",
              "      <td>0.0</td>\n",
              "      <td>0.0</td>\n",
              "      <td>0.0</td>\n",
              "      <td>0.0</td>\n",
              "      <td>0.0</td>\n",
              "      <td>0.0</td>\n",
              "      <td>0.0</td>\n",
              "      <td>0.0</td>\n",
              "      <td>0.0</td>\n",
              "      <td>0.0</td>\n",
              "      <td>0.0</td>\n",
              "      <td>0.0</td>\n",
              "      <td>0.0</td>\n",
              "      <td>0.0</td>\n",
              "      <td>0.0</td>\n",
              "      <td>0.0</td>\n",
              "      <td>0.0</td>\n",
              "      <td>0.0</td>\n",
              "      <td>0.0</td>\n",
              "      <td>0.0</td>\n",
              "      <td>...</td>\n",
              "      <td>0.0</td>\n",
              "      <td>0.0</td>\n",
              "      <td>0.0</td>\n",
              "      <td>0.0</td>\n",
              "      <td>0.0</td>\n",
              "      <td>0.0</td>\n",
              "      <td>0.0</td>\n",
              "      <td>0.0</td>\n",
              "      <td>0.0</td>\n",
              "      <td>0.0</td>\n",
              "      <td>0.0</td>\n",
              "      <td>0.0</td>\n",
              "      <td>0.0</td>\n",
              "      <td>0.0</td>\n",
              "      <td>0.0</td>\n",
              "      <td>0.0</td>\n",
              "      <td>0.0</td>\n",
              "      <td>0.0</td>\n",
              "      <td>0.0</td>\n",
              "      <td>0.0</td>\n",
              "      <td>0.0</td>\n",
              "      <td>0.0</td>\n",
              "      <td>0.0</td>\n",
              "      <td>0.0</td>\n",
              "      <td>0.0</td>\n",
              "      <td>0.0</td>\n",
              "      <td>0.0</td>\n",
              "      <td>0.0</td>\n",
              "      <td>0.0</td>\n",
              "      <td>0.0</td>\n",
              "      <td>0.0</td>\n",
              "      <td>0.0</td>\n",
              "      <td>0.0</td>\n",
              "      <td>0.0</td>\n",
              "      <td>0.0</td>\n",
              "      <td>0.0</td>\n",
              "      <td>0.0</td>\n",
              "      <td>0.0</td>\n",
              "      <td>0.0</td>\n",
              "      <td>0.0</td>\n",
              "    </tr>\n",
              "    <tr>\n",
              "      <th>'Til There Was You (1997)</th>\n",
              "      <td>0.0</td>\n",
              "      <td>0.0</td>\n",
              "      <td>0.0</td>\n",
              "      <td>0.0</td>\n",
              "      <td>0.0</td>\n",
              "      <td>0.0</td>\n",
              "      <td>0.0</td>\n",
              "      <td>0.0</td>\n",
              "      <td>0.0</td>\n",
              "      <td>0.0</td>\n",
              "      <td>0.0</td>\n",
              "      <td>0.0</td>\n",
              "      <td>0.0</td>\n",
              "      <td>0.0</td>\n",
              "      <td>0.0</td>\n",
              "      <td>0.0</td>\n",
              "      <td>0.0</td>\n",
              "      <td>0.0</td>\n",
              "      <td>0.0</td>\n",
              "      <td>0.0</td>\n",
              "      <td>0.0</td>\n",
              "      <td>0.0</td>\n",
              "      <td>0.0</td>\n",
              "      <td>0.0</td>\n",
              "      <td>0.0</td>\n",
              "      <td>0.0</td>\n",
              "      <td>0.0</td>\n",
              "      <td>0.0</td>\n",
              "      <td>0.0</td>\n",
              "      <td>0.0</td>\n",
              "      <td>0.0</td>\n",
              "      <td>0.0</td>\n",
              "      <td>0.0</td>\n",
              "      <td>0.0</td>\n",
              "      <td>0.0</td>\n",
              "      <td>0.0</td>\n",
              "      <td>0.0</td>\n",
              "      <td>0.0</td>\n",
              "      <td>0.0</td>\n",
              "      <td>0.0</td>\n",
              "      <td>...</td>\n",
              "      <td>0.0</td>\n",
              "      <td>0.0</td>\n",
              "      <td>0.0</td>\n",
              "      <td>0.0</td>\n",
              "      <td>0.0</td>\n",
              "      <td>0.0</td>\n",
              "      <td>0.0</td>\n",
              "      <td>0.0</td>\n",
              "      <td>0.0</td>\n",
              "      <td>0.0</td>\n",
              "      <td>0.0</td>\n",
              "      <td>0.0</td>\n",
              "      <td>0.0</td>\n",
              "      <td>0.0</td>\n",
              "      <td>0.0</td>\n",
              "      <td>0.0</td>\n",
              "      <td>0.0</td>\n",
              "      <td>0.0</td>\n",
              "      <td>0.0</td>\n",
              "      <td>0.0</td>\n",
              "      <td>0.0</td>\n",
              "      <td>0.0</td>\n",
              "      <td>0.0</td>\n",
              "      <td>0.0</td>\n",
              "      <td>0.0</td>\n",
              "      <td>0.0</td>\n",
              "      <td>0.0</td>\n",
              "      <td>0.0</td>\n",
              "      <td>0.0</td>\n",
              "      <td>0.0</td>\n",
              "      <td>0.0</td>\n",
              "      <td>0.0</td>\n",
              "      <td>0.0</td>\n",
              "      <td>0.0</td>\n",
              "      <td>0.0</td>\n",
              "      <td>0.0</td>\n",
              "      <td>0.0</td>\n",
              "      <td>0.0</td>\n",
              "      <td>0.0</td>\n",
              "      <td>0.0</td>\n",
              "    </tr>\n",
              "  </tbody>\n",
              "</table>\n",
              "<p>5 rows × 1596 columns</p>\n",
              "</div>"
            ],
            "text/plain": [
              "userId                                   1     2     3     ...  1594  1595  1596\n",
              "title                                                      ...                  \n",
              "'Hellboy': The Seeds of Creation (2004)   0.0   0.0   0.0  ...   0.0   0.0   0.0\n",
              "'Neath the Arizona Skies (1934)           0.0   0.0   0.0  ...   0.0   0.0   0.0\n",
              "'Round Midnight (1986)                    0.0   0.0   0.0  ...   0.0   0.0   0.0\n",
              "'Salem's Lot (2004)                       0.0   0.0   0.0  ...   0.0   0.0   0.0\n",
              "'Til There Was You (1997)                 0.0   0.0   0.0  ...   0.0   0.0   0.0\n",
              "\n",
              "[5 rows x 1596 columns]"
            ]
          },
          "metadata": {},
          "execution_count": 62
        }
      ]
    },
    {
      "cell_type": "code",
      "metadata": {
        "colab": {
          "base_uri": "https://localhost:8080/"
        },
        "id": "1u-tBWHkRQPa",
        "outputId": "fbccddb5-7a69-46c7-9c65-e0afc079447b"
      },
      "source": [
        "query_index = np.random.choice(user_movie_table.shape[0])\n",
        "print(\"Choosen Movie is: \",user_movie_table.index[query_index])"
      ],
      "execution_count": 63,
      "outputs": [
        {
          "output_type": "stream",
          "name": "stdout",
          "text": [
            "Choosen Movie is:  Defiance (2008)\n"
          ]
        }
      ]
    },
    {
      "cell_type": "code",
      "metadata": {
        "id": "lsb4w9nBRT-f"
      },
      "source": [
        "user_movie_table_matrix = csr_matrix(user_movie_table.values)\n",
        "model_knn = NearestNeighbors(metric = 'cosine', algorithm = 'brute')\n",
        "model_knn.fit(user_movie_table_matrix)\n",
        "distances, indices = model_knn.kneighbors(user_movie_table.iloc[query_index,:].values.reshape(1,-1), n_neighbors = 6)"
      ],
      "execution_count": 64,
      "outputs": []
    },
    {
      "cell_type": "code",
      "metadata": {
        "colab": {
          "base_uri": "https://localhost:8080/"
        },
        "id": "9yYnXpUfRYmR",
        "outputId": "ae8838df-c564-418e-aa25-99711aeedb4f"
      },
      "source": [
        "movie = []\n",
        "distance = []\n",
        "\n",
        "for i in range(0, len(distances.flatten())):\n",
        "    if i != 0:\n",
        "        movie.append(user_movie_table.index[indices.flatten()[i]])\n",
        "        distance.append(distances.flatten()[i])    \n",
        "\n",
        "m=pd.Series(movie,name='movie')\n",
        "d=pd.Series(distance,name='distance')\n",
        "recommend = pd.concat([m,d], axis=1)\n",
        "recommend = recommend.sort_values('distance',ascending=False)\n",
        "\n",
        "print('Recommendations for {0}:\\n'.format(user_movie_table.index[query_index]))\n",
        "for i in range(0,recommend.shape[0]):\n",
        "    print('{0}: {1}, with distance of {2}'.format(i, recommend[\"movie\"].iloc[i], recommend[\"distance\"].iloc[i]))"
      ],
      "execution_count": 65,
      "outputs": [
        {
          "output_type": "stream",
          "name": "stdout",
          "text": [
            "Recommendations for Defiance (2008):\n",
            "\n",
            "0: Amateurs, The (Moguls, The) (2005), with distance of 0.3862050771713257\n",
            "1: All About Steve (2009), with distance of 0.37000060081481934\n",
            "2: Gangster Squad (2013), with distance of 0.3333219289779663\n",
            "3: This Is 40 (2012), with distance of 0.2766357660293579\n",
            "4: Haywire (2011), with distance of 0.2232869267463684\n"
          ]
        }
      ]
    },
    {
      "cell_type": "markdown",
      "metadata": {
        "id": "itw1hvbRwWIY"
      },
      "source": [
        "# Linear Regression"
      ]
    },
    {
      "cell_type": "code",
      "metadata": {
        "colab": {
          "base_uri": "https://localhost:8080/",
          "height": 327
        },
        "id": "oKW6gqiU9hMD",
        "outputId": "b7522d1e-a0e8-4875-ee0c-5d032f0581e4"
      },
      "source": [
        "final_df2.head()"
      ],
      "execution_count": 66,
      "outputs": [
        {
          "output_type": "execute_result",
          "data": {
            "text/html": [
              "<div>\n",
              "<style scoped>\n",
              "    .dataframe tbody tr th:only-of-type {\n",
              "        vertical-align: middle;\n",
              "    }\n",
              "\n",
              "    .dataframe tbody tr th {\n",
              "        vertical-align: top;\n",
              "    }\n",
              "\n",
              "    .dataframe thead th {\n",
              "        text-align: right;\n",
              "    }\n",
              "</style>\n",
              "<table border=\"1\" class=\"dataframe\">\n",
              "  <thead>\n",
              "    <tr style=\"text-align: right;\">\n",
              "      <th></th>\n",
              "      <th>movieId</th>\n",
              "      <th>title</th>\n",
              "      <th>genres</th>\n",
              "      <th>movie_release_year</th>\n",
              "      <th>rating_mean</th>\n",
              "      <th>total_rating</th>\n",
              "    </tr>\n",
              "  </thead>\n",
              "  <tbody>\n",
              "    <tr>\n",
              "      <th>0</th>\n",
              "      <td>1</td>\n",
              "      <td>Toy Story (1995)</td>\n",
              "      <td>Adventure|Animation|Children|Comedy|Fantasy</td>\n",
              "      <td>1995</td>\n",
              "      <td>4.000000</td>\n",
              "      <td>560.0</td>\n",
              "    </tr>\n",
              "    <tr>\n",
              "      <th>1</th>\n",
              "      <td>2</td>\n",
              "      <td>Jumanji (1995)</td>\n",
              "      <td>Adventure|Children|Fantasy</td>\n",
              "      <td>1995</td>\n",
              "      <td>3.284000</td>\n",
              "      <td>250.0</td>\n",
              "    </tr>\n",
              "    <tr>\n",
              "      <th>2</th>\n",
              "      <td>3</td>\n",
              "      <td>Grumpier Old Men (1995)</td>\n",
              "      <td>Comedy|Romance</td>\n",
              "      <td>1995</td>\n",
              "      <td>3.193104</td>\n",
              "      <td>145.0</td>\n",
              "    </tr>\n",
              "    <tr>\n",
              "      <th>3</th>\n",
              "      <td>4</td>\n",
              "      <td>Waiting to Exhale (1995)</td>\n",
              "      <td>Comedy|Drama|Romance</td>\n",
              "      <td>1995</td>\n",
              "      <td>3.038461</td>\n",
              "      <td>26.0</td>\n",
              "    </tr>\n",
              "    <tr>\n",
              "      <th>4</th>\n",
              "      <td>5</td>\n",
              "      <td>Father of the Bride Part II (1995)</td>\n",
              "      <td>Comedy</td>\n",
              "      <td>1995</td>\n",
              "      <td>3.144295</td>\n",
              "      <td>149.0</td>\n",
              "    </tr>\n",
              "  </tbody>\n",
              "</table>\n",
              "</div>"
            ],
            "text/plain": [
              "   movieId                               title  ... rating_mean total_rating\n",
              "0        1                    Toy Story (1995)  ...    4.000000        560.0\n",
              "1        2                      Jumanji (1995)  ...    3.284000        250.0\n",
              "2        3             Grumpier Old Men (1995)  ...    3.193104        145.0\n",
              "3        4            Waiting to Exhale (1995)  ...    3.038461         26.0\n",
              "4        5  Father of the Bride Part II (1995)  ...    3.144295        149.0\n",
              "\n",
              "[5 rows x 6 columns]"
            ]
          },
          "metadata": {},
          "execution_count": 66
        }
      ]
    },
    {
      "cell_type": "code",
      "metadata": {
        "colab": {
          "base_uri": "https://localhost:8080/",
          "height": 206
        },
        "id": "Q4vqm1zvou2I",
        "outputId": "be4eebd4-1b37-4216-827c-8cfdc48d0326"
      },
      "source": [
        "from sklearn import preprocessing\n",
        "le = preprocessing.LabelEncoder()\n",
        "final_df2['genres']=le.fit_transform(final_df2['genres'])\n",
        "final_df2.head()"
      ],
      "execution_count": 67,
      "outputs": [
        {
          "output_type": "execute_result",
          "data": {
            "text/html": [
              "<div>\n",
              "<style scoped>\n",
              "    .dataframe tbody tr th:only-of-type {\n",
              "        vertical-align: middle;\n",
              "    }\n",
              "\n",
              "    .dataframe tbody tr th {\n",
              "        vertical-align: top;\n",
              "    }\n",
              "\n",
              "    .dataframe thead th {\n",
              "        text-align: right;\n",
              "    }\n",
              "</style>\n",
              "<table border=\"1\" class=\"dataframe\">\n",
              "  <thead>\n",
              "    <tr style=\"text-align: right;\">\n",
              "      <th></th>\n",
              "      <th>movieId</th>\n",
              "      <th>title</th>\n",
              "      <th>genres</th>\n",
              "      <th>movie_release_year</th>\n",
              "      <th>rating_mean</th>\n",
              "      <th>total_rating</th>\n",
              "    </tr>\n",
              "  </thead>\n",
              "  <tbody>\n",
              "    <tr>\n",
              "      <th>0</th>\n",
              "      <td>1</td>\n",
              "      <td>Toy Story (1995)</td>\n",
              "      <td>328</td>\n",
              "      <td>1995</td>\n",
              "      <td>4.000000</td>\n",
              "      <td>560.0</td>\n",
              "    </tr>\n",
              "    <tr>\n",
              "      <th>1</th>\n",
              "      <td>2</td>\n",
              "      <td>Jumanji (1995)</td>\n",
              "      <td>389</td>\n",
              "      <td>1995</td>\n",
              "      <td>3.284000</td>\n",
              "      <td>250.0</td>\n",
              "    </tr>\n",
              "    <tr>\n",
              "      <th>2</th>\n",
              "      <td>3</td>\n",
              "      <td>Grumpier Old Men (1995)</td>\n",
              "      <td>705</td>\n",
              "      <td>1995</td>\n",
              "      <td>3.193104</td>\n",
              "      <td>145.0</td>\n",
              "    </tr>\n",
              "    <tr>\n",
              "      <th>3</th>\n",
              "      <td>4</td>\n",
              "      <td>Waiting to Exhale (1995)</td>\n",
              "      <td>659</td>\n",
              "      <td>1995</td>\n",
              "      <td>3.038461</td>\n",
              "      <td>26.0</td>\n",
              "    </tr>\n",
              "    <tr>\n",
              "      <th>4</th>\n",
              "      <td>5</td>\n",
              "      <td>Father of the Bride Part II (1995)</td>\n",
              "      <td>605</td>\n",
              "      <td>1995</td>\n",
              "      <td>3.144295</td>\n",
              "      <td>149.0</td>\n",
              "    </tr>\n",
              "  </tbody>\n",
              "</table>\n",
              "</div>"
            ],
            "text/plain": [
              "   movieId                               title  ...  rating_mean total_rating\n",
              "0        1                    Toy Story (1995)  ...     4.000000        560.0\n",
              "1        2                      Jumanji (1995)  ...     3.284000        250.0\n",
              "2        3             Grumpier Old Men (1995)  ...     3.193104        145.0\n",
              "3        4            Waiting to Exhale (1995)  ...     3.038461         26.0\n",
              "4        5  Father of the Bride Part II (1995)  ...     3.144295        149.0\n",
              "\n",
              "[5 rows x 6 columns]"
            ]
          },
          "metadata": {},
          "execution_count": 67
        }
      ]
    },
    {
      "cell_type": "code",
      "metadata": {
        "id": "JZpqJA6Goy2a"
      },
      "source": [
        "final_df4 = final_df2.merge(data,on=['movieId','title'], how='left').dropna()"
      ],
      "execution_count": 68,
      "outputs": []
    },
    {
      "cell_type": "code",
      "metadata": {
        "id": "4CkwI217LCl3"
      },
      "source": [
        "feature_cols =['movieId','genres','movie_release_year','rating','total_rating']"
      ],
      "execution_count": 69,
      "outputs": []
    },
    {
      "cell_type": "code",
      "metadata": {
        "colab": {
          "base_uri": "https://localhost:8080/",
          "height": 161
        },
        "id": "Zvdgve_PUXti",
        "outputId": "ae4cc37a-f986-4fa0-c511-adadad031563"
      },
      "source": [
        "final_df4.sample(3)"
      ],
      "execution_count": 70,
      "outputs": [
        {
          "output_type": "execute_result",
          "data": {
            "text/html": [
              "<div>\n",
              "<style scoped>\n",
              "    .dataframe tbody tr th:only-of-type {\n",
              "        vertical-align: middle;\n",
              "    }\n",
              "\n",
              "    .dataframe tbody tr th {\n",
              "        vertical-align: top;\n",
              "    }\n",
              "\n",
              "    .dataframe thead th {\n",
              "        text-align: right;\n",
              "    }\n",
              "</style>\n",
              "<table border=\"1\" class=\"dataframe\">\n",
              "  <thead>\n",
              "    <tr style=\"text-align: right;\">\n",
              "      <th></th>\n",
              "      <th>movieId</th>\n",
              "      <th>title</th>\n",
              "      <th>genres</th>\n",
              "      <th>movie_release_year</th>\n",
              "      <th>rating_mean</th>\n",
              "      <th>total_rating</th>\n",
              "      <th>userId</th>\n",
              "      <th>rating</th>\n",
              "    </tr>\n",
              "  </thead>\n",
              "  <tbody>\n",
              "    <tr>\n",
              "      <th>71366</th>\n",
              "      <td>1278</td>\n",
              "      <td>Young Frankenstein (1974)</td>\n",
              "      <td>669</td>\n",
              "      <td>1974</td>\n",
              "      <td>3.938202</td>\n",
              "      <td>178.0</td>\n",
              "      <td>1508.0</td>\n",
              "      <td>4.0</td>\n",
              "    </tr>\n",
              "    <tr>\n",
              "      <th>155694</th>\n",
              "      <td>6056</td>\n",
              "      <td>Chaos (2001)</td>\n",
              "      <td>607</td>\n",
              "      <td>2001</td>\n",
              "      <td>4.000000</td>\n",
              "      <td>2.0</td>\n",
              "      <td>190.0</td>\n",
              "      <td>4.5</td>\n",
              "    </tr>\n",
              "    <tr>\n",
              "      <th>60497</th>\n",
              "      <td>1196</td>\n",
              "      <td>Star Wars: Episode V - The Empire Strikes Back...</td>\n",
              "      <td>120</td>\n",
              "      <td>1980</td>\n",
              "      <td>4.104869</td>\n",
              "      <td>534.0</td>\n",
              "      <td>1550.0</td>\n",
              "      <td>4.0</td>\n",
              "    </tr>\n",
              "  </tbody>\n",
              "</table>\n",
              "</div>"
            ],
            "text/plain": [
              "        movieId  ... rating\n",
              "71366      1278  ...    4.0\n",
              "155694     6056  ...    4.5\n",
              "60497      1196  ...    4.0\n",
              "\n",
              "[3 rows x 8 columns]"
            ]
          },
          "metadata": {},
          "execution_count": 70
        }
      ]
    },
    {
      "cell_type": "code",
      "metadata": {
        "id": "LGzzvuoTVE9o"
      },
      "source": [
        "final_df5 = final_df4[final_df4['movie_release_year'] > str(2000) ]"
      ],
      "execution_count": 71,
      "outputs": []
    },
    {
      "cell_type": "code",
      "metadata": {
        "id": "8_EGmu5KRP0V"
      },
      "source": [
        "X = final_df5[feature_cols].values # Features\n",
        "y = final_df5['rating_mean'].values"
      ],
      "execution_count": 72,
      "outputs": []
    },
    {
      "cell_type": "code",
      "metadata": {
        "id": "eK-DzEPzE6hp"
      },
      "source": [
        "from sklearn.linear_model import LinearRegression\n",
        "from sklearn import preprocessing"
      ],
      "execution_count": 73,
      "outputs": []
    },
    {
      "cell_type": "code",
      "metadata": {
        "id": "aEdubZcqKShJ"
      },
      "source": [
        "from sklearn.model_selection import train_test_split\n",
        "train_features, test_features, train_labels, test_labels = train_test_split(X,y, test_size = 0.30, random_state = 42)"
      ],
      "execution_count": 74,
      "outputs": []
    },
    {
      "cell_type": "code",
      "metadata": {
        "colab": {
          "base_uri": "https://localhost:8080/"
        },
        "id": "myGgauVYLAkG",
        "outputId": "7be75b14-c840-4d24-875c-08951affba3d"
      },
      "source": [
        "print('Training Features Shape:', train_features.shape)\n",
        "print('Training Labels Shape:', train_labels.shape)\n",
        "print('Testing Features Shape:', test_features.shape)\n",
        "print('Testing Labels Shape:', test_labels.shape)"
      ],
      "execution_count": 75,
      "outputs": [
        {
          "output_type": "stream",
          "name": "stdout",
          "text": [
            "Training Features Shape: (27721, 5)\n",
            "Training Labels Shape: (27721,)\n",
            "Testing Features Shape: (11881, 5)\n",
            "Testing Labels Shape: (11881,)\n"
          ]
        }
      ]
    },
    {
      "cell_type": "code",
      "metadata": {
        "colab": {
          "base_uri": "https://localhost:8080/"
        },
        "id": "hu6jhCGYK-xe",
        "outputId": "85a63897-57c8-45c2-a12d-2e48c607e33e"
      },
      "source": [
        "lin_reg = LinearRegression()\n",
        "lin_reg.fit(train_features,train_labels)"
      ],
      "execution_count": 76,
      "outputs": [
        {
          "output_type": "execute_result",
          "data": {
            "text/plain": [
              "LinearRegression()"
            ]
          },
          "metadata": {},
          "execution_count": 76
        }
      ]
    },
    {
      "cell_type": "code",
      "metadata": {
        "id": "yURKSPkPNjNh"
      },
      "source": [
        "linear_y_pred=lin_reg.predict(test_features)"
      ],
      "execution_count": 77,
      "outputs": []
    },
    {
      "cell_type": "code",
      "metadata": {
        "colab": {
          "base_uri": "https://localhost:8080/"
        },
        "id": "Vk6nvlBgQ9R7",
        "outputId": "2bb58b1a-61f5-4ad4-f03c-f548b155a2e3"
      },
      "source": [
        "errors = abs(linear_y_pred - test_labels)\n",
        "print('Mean Absolute Error:', round(np.mean(errors), 2), 'degrees.')"
      ],
      "execution_count": 78,
      "outputs": [
        {
          "output_type": "stream",
          "name": "stdout",
          "text": [
            "Mean Absolute Error: 0.27 degrees.\n"
          ]
        }
      ]
    },
    {
      "cell_type": "code",
      "metadata": {
        "colab": {
          "base_uri": "https://localhost:8080/"
        },
        "id": "zGBlh0VnN4bL",
        "outputId": "17b54686-bd41-4b00-b469-0f3542da5644"
      },
      "source": [
        "from sklearn.metrics import mean_squared_error, r2_score\n",
        "print(\"Coefficients: \\n\", lin_reg.coef_)\n",
        "lrRMSE = mean_squared_error(test_labels,linear_y_pred)\n",
        "lrR2 = r2_score(test_labels, linear_y_pred)\n",
        "print(\"Mean squared error: %.2f\" % lrRMSE)\n",
        "print(\"Coefficient of determination: %.2f\" % lrR2)"
      ],
      "execution_count": 79,
      "outputs": [
        {
          "output_type": "stream",
          "name": "stdout",
          "text": [
            "Coefficients: \n",
            " [ 4.39793814e-06  2.68794617e-04 -4.89952241e-03  1.95082242e-01\n",
            "  2.20282400e-03]\n",
            "Mean squared error: 0.13\n",
            "Coefficient of determination: 0.32\n"
          ]
        }
      ]
    },
    {
      "cell_type": "markdown",
      "metadata": {
        "id": "eU5hRlQNEvNr"
      },
      "source": [
        "# Random Forest"
      ]
    },
    {
      "cell_type": "code",
      "metadata": {
        "id": "rNjdL_iFEyH3"
      },
      "source": [
        "from sklearn.ensemble import RandomForestRegressor\n",
        "regressor = RandomForestRegressor(n_estimators = 500, random_state = 42)"
      ],
      "execution_count": 80,
      "outputs": []
    },
    {
      "cell_type": "code",
      "metadata": {
        "colab": {
          "base_uri": "https://localhost:8080/",
          "height": 206
        },
        "id": "ybQjcC99HN5E",
        "outputId": "b95666c8-a8a8-4485-c736-8a0587595250"
      },
      "source": [
        "final_df2.head()"
      ],
      "execution_count": 81,
      "outputs": [
        {
          "output_type": "execute_result",
          "data": {
            "text/html": [
              "<div>\n",
              "<style scoped>\n",
              "    .dataframe tbody tr th:only-of-type {\n",
              "        vertical-align: middle;\n",
              "    }\n",
              "\n",
              "    .dataframe tbody tr th {\n",
              "        vertical-align: top;\n",
              "    }\n",
              "\n",
              "    .dataframe thead th {\n",
              "        text-align: right;\n",
              "    }\n",
              "</style>\n",
              "<table border=\"1\" class=\"dataframe\">\n",
              "  <thead>\n",
              "    <tr style=\"text-align: right;\">\n",
              "      <th></th>\n",
              "      <th>movieId</th>\n",
              "      <th>title</th>\n",
              "      <th>genres</th>\n",
              "      <th>movie_release_year</th>\n",
              "      <th>rating_mean</th>\n",
              "      <th>total_rating</th>\n",
              "    </tr>\n",
              "  </thead>\n",
              "  <tbody>\n",
              "    <tr>\n",
              "      <th>0</th>\n",
              "      <td>1</td>\n",
              "      <td>Toy Story (1995)</td>\n",
              "      <td>328</td>\n",
              "      <td>1995</td>\n",
              "      <td>4.000000</td>\n",
              "      <td>560.0</td>\n",
              "    </tr>\n",
              "    <tr>\n",
              "      <th>1</th>\n",
              "      <td>2</td>\n",
              "      <td>Jumanji (1995)</td>\n",
              "      <td>389</td>\n",
              "      <td>1995</td>\n",
              "      <td>3.284000</td>\n",
              "      <td>250.0</td>\n",
              "    </tr>\n",
              "    <tr>\n",
              "      <th>2</th>\n",
              "      <td>3</td>\n",
              "      <td>Grumpier Old Men (1995)</td>\n",
              "      <td>705</td>\n",
              "      <td>1995</td>\n",
              "      <td>3.193104</td>\n",
              "      <td>145.0</td>\n",
              "    </tr>\n",
              "    <tr>\n",
              "      <th>3</th>\n",
              "      <td>4</td>\n",
              "      <td>Waiting to Exhale (1995)</td>\n",
              "      <td>659</td>\n",
              "      <td>1995</td>\n",
              "      <td>3.038461</td>\n",
              "      <td>26.0</td>\n",
              "    </tr>\n",
              "    <tr>\n",
              "      <th>4</th>\n",
              "      <td>5</td>\n",
              "      <td>Father of the Bride Part II (1995)</td>\n",
              "      <td>605</td>\n",
              "      <td>1995</td>\n",
              "      <td>3.144295</td>\n",
              "      <td>149.0</td>\n",
              "    </tr>\n",
              "  </tbody>\n",
              "</table>\n",
              "</div>"
            ],
            "text/plain": [
              "   movieId                               title  ...  rating_mean total_rating\n",
              "0        1                    Toy Story (1995)  ...     4.000000        560.0\n",
              "1        2                      Jumanji (1995)  ...     3.284000        250.0\n",
              "2        3             Grumpier Old Men (1995)  ...     3.193104        145.0\n",
              "3        4            Waiting to Exhale (1995)  ...     3.038461         26.0\n",
              "4        5  Father of the Bride Part II (1995)  ...     3.144295        149.0\n",
              "\n",
              "[5 rows x 6 columns]"
            ]
          },
          "metadata": {},
          "execution_count": 81
        }
      ]
    },
    {
      "cell_type": "code",
      "metadata": {
        "id": "A1wnHs_AHP-E"
      },
      "source": [
        "feature_cols =['movieId','genres','movie_release_year','rating','total_rating','userId']\n",
        "X = final_df4[feature_cols] # Features\n",
        "y = final_df4['rating_mean']"
      ],
      "execution_count": 82,
      "outputs": []
    },
    {
      "cell_type": "code",
      "metadata": {
        "id": "eARgx0WoLA1j"
      },
      "source": [
        "from sklearn.model_selection import train_test_split\n",
        "train_features, test_features, train_labels, test_labels = train_test_split(X,y, test_size = 0.25, random_state = 42)"
      ],
      "execution_count": 83,
      "outputs": []
    },
    {
      "cell_type": "code",
      "metadata": {
        "colab": {
          "base_uri": "https://localhost:8080/"
        },
        "id": "xTaasXhBeEzD",
        "outputId": "86d60467-855c-4bb3-f1da-1772dccf9c83"
      },
      "source": [
        "regressor.fit(train_features,train_labels)"
      ],
      "execution_count": 84,
      "outputs": [
        {
          "output_type": "execute_result",
          "data": {
            "text/plain": [
              "RandomForestRegressor(n_estimators=500, random_state=42)"
            ]
          },
          "metadata": {},
          "execution_count": 84
        }
      ]
    },
    {
      "cell_type": "code",
      "metadata": {
        "colab": {
          "base_uri": "https://localhost:8080/"
        },
        "id": "Vk_bCQj3LNYU",
        "outputId": "b6e620f1-2e1f-4a9f-d187-d8002909e8ff"
      },
      "source": [
        "print('Training Features Shape:', train_features.shape)\n",
        "print('Training Labels Shape:', train_labels.shape)\n",
        "print('Testing Features Shape:', test_features.shape)\n",
        "print('Testing Labels Shape:', test_labels.shape)"
      ],
      "execution_count": 85,
      "outputs": [
        {
          "output_type": "stream",
          "name": "stdout",
          "text": [
            "Training Features Shape: (141609, 6)\n",
            "Training Labels Shape: (141609,)\n",
            "Testing Features Shape: (47203, 6)\n",
            "Testing Labels Shape: (47203,)\n"
          ]
        }
      ]
    },
    {
      "cell_type": "code",
      "metadata": {
        "colab": {
          "base_uri": "https://localhost:8080/"
        },
        "id": "XLc4_rTNKh7U",
        "outputId": "8a3276c4-d2f3-457d-9dcb-221dc42f4818"
      },
      "source": [
        "predictions = regressor.predict(test_features)\n",
        "errors = abs(predictions - test_labels)\n",
        "print('Mean Absolute Error:', round(np.mean(errors), 2), 'degrees.')"
      ],
      "execution_count": 86,
      "outputs": [
        {
          "output_type": "stream",
          "name": "stdout",
          "text": [
            "Mean Absolute Error: 0.03 degrees.\n"
          ]
        }
      ]
    },
    {
      "cell_type": "code",
      "metadata": {
        "colab": {
          "base_uri": "https://localhost:8080/"
        },
        "id": "0BQ0FruvLR9T",
        "outputId": "090b3042-c88a-4e68-fd71-4b78761af026"
      },
      "source": [
        "from sklearn.metrics import mean_squared_error, r2_score\n",
        "rfRMSE = mean_squared_error(test_labels, predictions)\n",
        "rfR2 = abs(r2_score(predictions,test_labels))\n",
        "# The mean squared error\n",
        "print(\"Mean squared error:\", round(rfRMSE, 2))\n",
        "print(\"Coefficient of determination\", round(rfR2, 2))"
      ],
      "execution_count": 87,
      "outputs": [
        {
          "output_type": "stream",
          "name": "stdout",
          "text": [
            "Mean squared error: 0.02\n",
            "Coefficient of determination 0.91\n"
          ]
        }
      ]
    },
    {
      "cell_type": "markdown",
      "metadata": {
        "id": "oRUDvQmq_OLx"
      },
      "source": [
        "# K-Means Clustering"
      ]
    },
    {
      "cell_type": "code",
      "metadata": {
        "id": "1UMX8FHE_Swo"
      },
      "source": [
        "from sklearn.cluster import KMeans\n",
        "from sklearn import metrics"
      ],
      "execution_count": 88,
      "outputs": []
    },
    {
      "cell_type": "code",
      "metadata": {
        "colab": {
          "base_uri": "https://localhost:8080/"
        },
        "id": "-_U4q7RD_gDM",
        "outputId": "16d3006b-440e-491f-d29a-a409dc4643ed"
      },
      "source": [
        "kmeanModel = KMeans(n_clusters=20)\n",
        "kmeanModel.fit(train_features)"
      ],
      "execution_count": 89,
      "outputs": [
        {
          "output_type": "execute_result",
          "data": {
            "text/plain": [
              "KMeans(n_clusters=20)"
            ]
          },
          "metadata": {},
          "execution_count": 89
        }
      ]
    },
    {
      "cell_type": "code",
      "metadata": {
        "colab": {
          "base_uri": "https://localhost:8080/"
        },
        "id": "xhBzF5Sf_0dg",
        "outputId": "bc4ee9bb-eaa7-47f2-e74c-fa1bea44de27"
      },
      "source": [
        "train_features['Cluster'] = kmeanModel.labels_\n",
        "train_features['Cluster'].sample(n=10)"
      ],
      "execution_count": 90,
      "outputs": [
        {
          "output_type": "execute_result",
          "data": {
            "text/plain": [
              "143949     6\n",
              "90577     15\n",
              "3040      10\n",
              "66176      1\n",
              "54868      1\n",
              "83138      1\n",
              "168593    18\n",
              "95895     15\n",
              "18512     10\n",
              "45869     10\n",
              "Name: Cluster, dtype: int32"
            ]
          },
          "metadata": {},
          "execution_count": 90
        }
      ]
    },
    {
      "cell_type": "code",
      "metadata": {
        "id": "gMVs5be-__GJ"
      },
      "source": [
        "train_features.rename(columns = {0:'MovieID',1:'Cluster'},inplace=True)\n",
        "train_features.drop_duplicates(inplace=True)"
      ],
      "execution_count": 91,
      "outputs": []
    },
    {
      "cell_type": "code",
      "metadata": {
        "colab": {
          "base_uri": "https://localhost:8080/",
          "height": 423
        },
        "id": "oKVAh7AhAHJI",
        "outputId": "df2d7bb9-b296-47e2-9b70-ff7d57dda278"
      },
      "source": [
        "train_features[['movieId', 'Cluster']]"
      ],
      "execution_count": 92,
      "outputs": [
        {
          "output_type": "execute_result",
          "data": {
            "text/html": [
              "<div>\n",
              "<style scoped>\n",
              "    .dataframe tbody tr th:only-of-type {\n",
              "        vertical-align: middle;\n",
              "    }\n",
              "\n",
              "    .dataframe tbody tr th {\n",
              "        vertical-align: top;\n",
              "    }\n",
              "\n",
              "    .dataframe thead th {\n",
              "        text-align: right;\n",
              "    }\n",
              "</style>\n",
              "<table border=\"1\" class=\"dataframe\">\n",
              "  <thead>\n",
              "    <tr style=\"text-align: right;\">\n",
              "      <th></th>\n",
              "      <th>movieId</th>\n",
              "      <th>Cluster</th>\n",
              "    </tr>\n",
              "  </thead>\n",
              "  <tbody>\n",
              "    <tr>\n",
              "      <th>109174</th>\n",
              "      <td>2628</td>\n",
              "      <td>15</td>\n",
              "    </tr>\n",
              "    <tr>\n",
              "      <th>86703</th>\n",
              "      <td>1769</td>\n",
              "      <td>1</td>\n",
              "    </tr>\n",
              "    <tr>\n",
              "      <th>119654</th>\n",
              "      <td>3016</td>\n",
              "      <td>15</td>\n",
              "    </tr>\n",
              "    <tr>\n",
              "      <th>89075</th>\n",
              "      <td>1921</td>\n",
              "      <td>15</td>\n",
              "    </tr>\n",
              "    <tr>\n",
              "      <th>29581</th>\n",
              "      <td>454</td>\n",
              "      <td>10</td>\n",
              "    </tr>\n",
              "    <tr>\n",
              "      <th>...</th>\n",
              "      <td>...</td>\n",
              "      <td>...</td>\n",
              "    </tr>\n",
              "    <tr>\n",
              "      <th>120005</th>\n",
              "      <td>3033</td>\n",
              "      <td>15</td>\n",
              "    </tr>\n",
              "    <tr>\n",
              "      <th>103772</th>\n",
              "      <td>2396</td>\n",
              "      <td>15</td>\n",
              "    </tr>\n",
              "    <tr>\n",
              "      <th>132106</th>\n",
              "      <td>3723</td>\n",
              "      <td>11</td>\n",
              "    </tr>\n",
              "    <tr>\n",
              "      <th>147158</th>\n",
              "      <td>4979</td>\n",
              "      <td>6</td>\n",
              "    </tr>\n",
              "    <tr>\n",
              "      <th>122087</th>\n",
              "      <td>3114</td>\n",
              "      <td>15</td>\n",
              "    </tr>\n",
              "  </tbody>\n",
              "</table>\n",
              "<p>141609 rows × 2 columns</p>\n",
              "</div>"
            ],
            "text/plain": [
              "        movieId  Cluster\n",
              "109174     2628       15\n",
              "86703      1769        1\n",
              "119654     3016       15\n",
              "89075      1921       15\n",
              "29581       454       10\n",
              "...         ...      ...\n",
              "120005     3033       15\n",
              "103772     2396       15\n",
              "132106     3723       11\n",
              "147158     4979        6\n",
              "122087     3114       15\n",
              "\n",
              "[141609 rows x 2 columns]"
            ]
          },
          "metadata": {},
          "execution_count": 92
        }
      ]
    },
    {
      "cell_type": "code",
      "metadata": {
        "colab": {
          "base_uri": "https://localhost:8080/"
        },
        "id": "ccxvTqxcIfqG",
        "outputId": "685fbd44-8b78-40ed-cf59-4d8a3868ecb2"
      },
      "source": [
        "train_features['Cluster'].value_counts()"
      ],
      "execution_count": 93,
      "outputs": [
        {
          "output_type": "execute_result",
          "data": {
            "text/plain": [
              "10    34653\n",
              "1     31127\n",
              "15    25604\n",
              "11    15580\n",
              "6      9459\n",
              "13     6849\n",
              "18     3099\n",
              "8      1871\n",
              "19     1826\n",
              "3      1470\n",
              "9      1465\n",
              "0      1269\n",
              "14     1255\n",
              "17     1081\n",
              "12     1019\n",
              "2       984\n",
              "4       921\n",
              "5       832\n",
              "16      665\n",
              "7       580\n",
              "Name: Cluster, dtype: int64"
            ]
          },
          "metadata": {},
          "execution_count": 93
        }
      ]
    },
    {
      "cell_type": "code",
      "metadata": {
        "colab": {
          "base_uri": "https://localhost:8080/",
          "height": 265
        },
        "id": "zs6dQzO2IUnS",
        "outputId": "40eb3e10-0413-41d1-9be8-620b971206dd"
      },
      "source": [
        "sns.countplot(train_features['Cluster'])\n",
        "plt.xlabel('Clusters')\n",
        "plt.ylabel('Count')\n",
        "plt.show()"
      ],
      "execution_count": 94,
      "outputs": [
        {
          "output_type": "display_data",
          "data": {
            "image/png": "[encoded data removed]",
            "text/plain": [
              "<Figure size 1224x360 with 1 Axes>"
            ]
          },
          "metadata": {
            "needs_background": "light"
          }
        }
      ]
    },
    {
      "cell_type": "code",
      "metadata": {
        "colab": {
          "base_uri": "https://localhost:8080/"
        },
        "id": "bDWbo6PnHqS0",
        "outputId": "77f33ba2-308e-4ad1-8f85-5c46642b3466"
      },
      "source": [
        "kmeanModel.cluster_centers_"
      ],
      "execution_count": 95,
      "outputs": [
        {
          "output_type": "execute_result",
          "data": {
            "text/plain": [
              "array([[4.51449046e+04, 5.39919622e+02, 2.00534752e+03, 3.85736801e+00,\n",
              "        5.29377463e+01, 7.95969267e+02],\n",
              "       [1.26928622e+03, 5.65111354e+02, 1.98208984e+03, 3.98980542e+00,\n",
              "        1.84172971e+02, 8.05255812e+02],\n",
              "       [8.91854715e+04, 4.38895325e+02, 2.01076016e+03, 3.90853659e+00,\n",
              "        2.10823171e+01, 7.48648374e+02],\n",
              "       [6.03962880e+04, 4.38978977e+02, 2.00762649e+03, 3.90469516e+00,\n",
              "        5.67589348e+01, 7.65979678e+02],\n",
              "       [2.70956384e+04, 6.23267101e+02, 1.98956026e+03, 3.95331162e+00,\n",
              "        1.46188925e+01, 7.54116178e+02],\n",
              "       [7.32142728e+04, 4.81811298e+02, 2.00853125e+03, 3.85096154e+00,\n",
              "        2.89182692e+01, 7.72597356e+02],\n",
              "       [5.25263986e+03, 5.73860514e+02, 1.99567975e+03, 3.86903376e+00,\n",
              "        1.03361308e+02, 7.98733728e+02],\n",
              "       [1.09483107e+05, 5.23451724e+02, 2.01276207e+03, 3.91206897e+00,\n",
              "        1.24258621e+01, 7.75110345e+02],\n",
              "       [3.28361470e+04, 4.71242117e+02, 2.00263442e+03, 3.89230358e+00,\n",
              "        7.20069482e+01, 7.90306788e+02],\n",
              "       [4.94510287e+04, 5.62995904e+02, 2.00518430e+03, 3.92354949e+00,\n",
              "        6.37665529e+01, 7.98660068e+02],\n",
              "       [3.49771497e+02, 5.32652961e+02, 1.99300658e+03, 3.83620441e+00,\n",
              "        2.94200225e+02, 7.97002568e+02],\n",
              "       [3.75770244e+03, 5.82834107e+02, 1.99044876e+03, 3.82650168e+00,\n",
              "        9.39391596e+01, 8.02216357e+02],\n",
              "       [8.04636369e+04, 5.14644750e+02, 2.00951325e+03, 3.98822375e+00,\n",
              "        4.04641806e+01, 8.10312071e+02],\n",
              "       [6.84331406e+03, 5.12288071e+02, 1.99460184e+03, 3.90056943e+00,\n",
              "        8.33356694e+01, 8.01665499e+02],\n",
              "       [6.78024988e+04, 5.67103586e+02, 2.00809721e+03, 3.96454183e+00,\n",
              "        4.51768924e+01, 7.90063745e+02],\n",
              "       [2.46620832e+03, 5.42848819e+02, 1.98712394e+03, 3.85678931e+00,\n",
              "        1.38052771e+02, 7.88550978e+02],\n",
              "       [9.85399023e+04, 5.01028571e+02, 2.01167218e+03, 3.87218045e+00,\n",
              "        1.34631579e+01, 7.94763910e+02],\n",
              "       [3.94047364e+04, 5.39970398e+02, 2.00427012e+03, 3.86262720e+00,\n",
              "        3.99713228e+01, 7.90071230e+02],\n",
              "       [8.59384931e+03, 5.01858341e+02, 1.99561826e+03, 3.89496612e+00,\n",
              "        6.64569216e+01, 8.13954179e+02],\n",
              "       [5.49188882e+04, 5.27341894e+02, 2.00639326e+03, 3.88175495e+00,\n",
              "        3.83991439e+01, 7.63406635e+02]])"
            ]
          },
          "metadata": {},
          "execution_count": 95
        }
      ]
    },
    {
      "cell_type": "code",
      "metadata": {
        "colab": {
          "base_uri": "https://localhost:8080/"
        },
        "id": "GCPLkLpXGwnM",
        "outputId": "e554f5bf-9dfe-4be9-b0f7-3a40ab3f51d5"
      },
      "source": [
        "kmeanModel.inertia_"
      ],
      "execution_count": 96,
      "outputs": [
        {
          "output_type": "execute_result",
          "data": {
            "text/plain": [
              "104973422789.24841"
            ]
          },
          "metadata": {},
          "execution_count": 96
        }
      ]
    },
    {
      "cell_type": "code",
      "metadata": {
        "colab": {
          "base_uri": "https://localhost:8080/",
          "height": 265
        },
        "id": "NR2U35HJJL22",
        "outputId": "86544da2-b3c3-4e0e-f62d-8f397740808a"
      },
      "source": [
        "sse = []\n",
        "list_k = list(range(1, 10))\n",
        "\n",
        "for k in list_k:\n",
        "    km = KMeans(n_clusters=k)\n",
        "    km.fit(train_features)\n",
        "    sse.append(km.inertia_)\n",
        "\n",
        "# Plot sse against k\n",
        "plt.plot(list_k, sse, '-o')\n",
        "plt.xlabel(r'Number of clusters *k*')\n",
        "plt.ylabel('Sum of squared distance');"
      ],
      "execution_count": 97,
      "outputs": [
        {
          "output_type": "display_data",
          "data": {
            "image/png": "[encoded data removed]",
            "text/plain": [
              "<Figure size 1224x360 with 1 Axes>"
            ]
          },
          "metadata": {
            "needs_background": "light"
          }
        }
      ]
    },
    {
      "cell_type": "markdown",
      "metadata": {
        "id": "xeVRwr7FdvxQ"
      },
      "source": [
        "# Comparison"
      ]
    },
    {
      "cell_type": "code",
      "metadata": {
        "colab": {
          "base_uri": "https://localhost:8080/",
          "height": 583
        },
        "id": "g8RH0diI3oBM",
        "outputId": "e3dc5e70-6230-4b3f-e10c-4cc992cfc743"
      },
      "source": [
        "def compRMSE(mse, model):\n",
        "  print('RMSE\\n'+str(mse)+\" (\"+model+\")\")\n",
        "  plt.plot(mse, marker='o')\n",
        "  plt.ylabel('RMSE')\n",
        "  plt.xlabel('X-Axis')\n",
        "  plt.grid()\n",
        "  plt.show()\n",
        "\n",
        "compRMSE(lrRMSE, 'Linear Regression')\n",
        "compRMSE(rfRMSE, 'Random Forest')"
      ],
      "execution_count": 98,
      "outputs": [
        {
          "output_type": "stream",
          "name": "stdout",
          "text": [
            "RMSE\n",
            "0.1287858101570808 (Linear Regression)\n"
          ]
        },
        {
          "output_type": "display_data",
          "data": {
            "image/png": "[encoded data removed]",
            "text/plain": [
              "<Figure size 1224x360 with 1 Axes>"
            ]
          },
          "metadata": {
            "needs_background": "light"
          }
        },
        {
          "output_type": "stream",
          "name": "stdout",
          "text": [
            "RMSE\n",
            "0.016305211363057986 (Random Forest)\n"
          ]
        },
        {
          "output_type": "display_data",
          "data": {
            "image/png": "[encoded data removed]",
            "text/plain": [
              "<Figure size 1224x360 with 1 Axes>"
            ]
          },
          "metadata": {
            "needs_background": "light"
          }
        }
      ]
    },
    {
      "cell_type": "code",
      "metadata": {
        "colab": {
          "base_uri": "https://localhost:8080/",
          "height": 583
        },
        "id": "gZtn8g0o3rpn",
        "outputId": "da5b3570-cffd-445e-b618-f63ef4be08ef"
      },
      "source": [
        "def compR2(r2, model):\n",
        "  print('R2\\n'+str(r2)+\" (\"+model+\")\")\n",
        "  plt.plot(r2, marker='o')\n",
        "  plt.ylabel('R2 Score')\n",
        "  plt.xlabel('X-Axis')\n",
        "  plt.grid()\n",
        "  plt.show()\n",
        "\n",
        "compR2(lrR2, 'Linear Regression')\n",
        "compR2(rfR2, 'Random Forest')"
      ],
      "execution_count": 99,
      "outputs": [
        {
          "output_type": "stream",
          "name": "stdout",
          "text": [
            "R2\n",
            "0.3201144242230629 (Linear Regression)\n"
          ]
        },
        {
          "output_type": "display_data",
          "data": {
            "image/png": "[encoded data removed]",
            "text/plain": [
              "<Figure size 1224x360 with 1 Axes>"
            ]
          },
          "metadata": {
            "needs_background": "light"
          }
        },
        {
          "output_type": "stream",
          "name": "stdout",
          "text": [
            "R2\n",
            "0.908726075686176 (Random Forest)\n"
          ]
        },
        {
          "output_type": "display_data",
          "data": {
            "image/png": "[encoded data removed]",
            "text/plain": [
              "<Figure size 1224x360 with 1 Axes>"
            ]
          },
          "metadata": {
            "needs_background": "light"
          }
        }
      ]
    }
  ]
}